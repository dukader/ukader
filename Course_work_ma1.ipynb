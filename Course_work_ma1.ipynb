{
 "cells": [
  {
   "cell_type": "code",
   "execution_count": 1,
   "metadata": {
    "ExecuteTime": {
     "end_time": "2020-06-25T21:18:54.739624Z",
     "start_time": "2020-06-25T21:18:53.912605Z"
    }
   },
   "outputs": [],
   "source": [
    "import pandas as pd"
   ]
  },
  {
   "cell_type": "code",
   "execution_count": 2,
   "metadata": {
    "ExecuteTime": {
     "end_time": "2020-06-25T21:18:54.756444Z",
     "start_time": "2020-06-25T21:18:54.743178Z"
    }
   },
   "outputs": [],
   "source": [
    "import numpy as np"
   ]
  },
  {
   "cell_type": "code",
   "execution_count": 3,
   "metadata": {
    "ExecuteTime": {
     "end_time": "2020-06-25T21:18:54.777557Z",
     "start_time": "2020-06-25T21:18:54.761944Z"
    }
   },
   "outputs": [],
   "source": [
    "import glicko2"
   ]
  },
  {
   "cell_type": "code",
   "execution_count": 4,
   "metadata": {
    "ExecuteTime": {
     "end_time": "2020-06-25T21:18:56.539361Z",
     "start_time": "2020-06-25T21:18:54.784917Z"
    }
   },
   "outputs": [],
   "source": [
    "import seaborn as sns\n",
    "from matplotlib import pyplot as plt\n",
    "sns.set()"
   ]
  },
  {
   "cell_type": "code",
   "execution_count": 61,
   "metadata": {
    "ExecuteTime": {
     "end_time": "2020-06-25T21:28:17.785688Z",
     "start_time": "2020-06-25T21:28:17.775447Z"
    }
   },
   "outputs": [],
   "source": [
    "np.random.seed(47)"
   ]
  },
  {
   "cell_type": "code",
   "execution_count": 6,
   "metadata": {
    "ExecuteTime": {
     "end_time": "2020-06-25T21:18:57.293256Z",
     "start_time": "2020-06-25T21:18:57.286850Z"
    }
   },
   "outputs": [],
   "source": [
    "# data_2017 = pd.read_excel('lol_2017.xlsx')\n",
    "# games_2017 = data_2017[['gameid','league','week','game','side','team','result','date']]\n",
    "# games_2017 = games_2017.drop_duplicates()\n",
    "# games_2017.reset_index(drop = True, inplace = True)\n",
    "# games_2017 = games_2017.merge(games_2017, on = ['gameid','league'], suffixes = ['_1','_2'])\n",
    "# games_2017 = games_2017[(games_2017['result_1']==1)&(games_2017['team_1']!=games_2017['team_2'])]\n",
    "# games_2017 = games_2017.reset_index(drop = True)\n",
    "# games_2017.drop(games_2017[games_2017['league'] == 'LPL'].index, inplace = True)\n",
    "# games_2017.reset_index(inplace = True, drop = True)\n",
    "# #"
   ]
  },
  {
   "cell_type": "code",
   "execution_count": 7,
   "metadata": {
    "ExecuteTime": {
     "end_time": "2020-06-25T21:18:57.511558Z",
     "start_time": "2020-06-25T21:18:57.497536Z"
    }
   },
   "outputs": [],
   "source": [
    "# data_2018 = pd.concat([pd.read_excel('lol_2018_spring.xlsx'),pd.read_excel('lol_2018_summer.xlsx')], axis = 1)"
   ]
  },
  {
   "cell_type": "code",
   "execution_count": 8,
   "metadata": {
    "ExecuteTime": {
     "end_time": "2020-06-25T21:18:57.713692Z",
     "start_time": "2020-06-25T21:18:57.707283Z"
    }
   },
   "outputs": [],
   "source": [
    "# pd.read_excel('lol_2018_spring.xlsx').head()"
   ]
  },
  {
   "cell_type": "code",
   "execution_count": null,
   "metadata": {
    "ExecuteTime": {
     "end_time": "2020-06-21T20:27:06.483344Z",
     "start_time": "2020-06-21T20:27:06.402911Z"
    }
   },
   "outputs": [],
   "source": []
  },
  {
   "cell_type": "code",
   "execution_count": null,
   "metadata": {
    "ExecuteTime": {
     "end_time": "2020-06-21T20:27:08.098458Z",
     "start_time": "2020-06-21T20:27:08.085675Z"
    }
   },
   "outputs": [],
   "source": []
  },
  {
   "cell_type": "code",
   "execution_count": 9,
   "metadata": {
    "ExecuteTime": {
     "end_time": "2020-06-25T21:18:59.655009Z",
     "start_time": "2020-06-25T21:18:59.630457Z"
    }
   },
   "outputs": [],
   "source": [
    "# import datetime as dt\n",
    "# games_2017['date_1'] = pd.to_datetime(games_2017['date_1']).dt.date"
   ]
  },
  {
   "cell_type": "code",
   "execution_count": null,
   "metadata": {},
   "outputs": [],
   "source": []
  },
  {
   "cell_type": "markdown",
   "metadata": {},
   "source": [
    "# Data prep "
   ]
  },
  {
   "cell_type": "code",
   "execution_count": 10,
   "metadata": {
    "ExecuteTime": {
     "end_time": "2020-06-25T21:19:00.150313Z",
     "start_time": "2020-06-25T21:19:00.140832Z"
    }
   },
   "outputs": [],
   "source": [
    "# eu_2017 = games_2017[games_2017['league'] == 'EULCS']"
   ]
  },
  {
   "cell_type": "code",
   "execution_count": 11,
   "metadata": {
    "ExecuteTime": {
     "end_time": "2020-06-25T21:19:00.553762Z",
     "start_time": "2020-06-25T21:19:00.408769Z"
    }
   },
   "outputs": [],
   "source": [
    "bets_2017 = pd.read_excel('lol_bets.xlsx')\n",
    "bets_2017['date'] = pd.to_datetime(bets_2017['date'])"
   ]
  },
  {
   "cell_type": "code",
   "execution_count": 12,
   "metadata": {
    "ExecuteTime": {
     "end_time": "2020-06-25T21:19:02.011287Z",
     "start_time": "2020-06-25T21:19:01.955183Z"
    }
   },
   "outputs": [],
   "source": [
    "start_eu_teams = ['Splyce',\n",
    " 'Fnatic',\n",
    " 'Misfits',\n",
    " 'Roccat',\n",
    " 'G2 Esports',\n",
    " 'Unicorns of Love',\n",
    " 'Vitality',\n",
    " 'Origen',\n",
    " 'H2k-Gaming',\n",
    " 'Giants Gaming']"
   ]
  },
  {
   "cell_type": "code",
   "execution_count": 13,
   "metadata": {
    "ExecuteTime": {
     "end_time": "2020-06-25T21:19:02.184795Z",
     "start_time": "2020-06-25T21:19:02.178766Z"
    }
   },
   "outputs": [],
   "source": [
    "start_na_teams = ['Team Liquid',\n",
    " 'Dignitas',\n",
    " 'Cloud9',\n",
    " 'Counter Logic Gaming',\n",
    " 'Immortals',\n",
    " 'Phoenix1',\n",
    " 'Echo Fox',\n",
    " 'Team Solomid',\n",
    " 'Team EnVyUs',\n",
    " 'FlyQuest eSports']"
   ]
  },
  {
   "cell_type": "code",
   "execution_count": 14,
   "metadata": {
    "ExecuteTime": {
     "end_time": "2020-06-25T21:19:04.026327Z",
     "start_time": "2020-06-25T21:19:03.774246Z"
    }
   },
   "outputs": [],
   "source": [
    "bets_2017['week'] = bets_2017.date.dt.week\n",
    "bets_2017['week'] = bets_2017['week'] - bets_2017['week'].min() + 1\n",
    "bets_2017['week'] = bets_2017['week'].rank(method = 'dense').astype(int)\n",
    "bets_2017.sort_values('date', inplace = True)"
   ]
  },
  {
   "cell_type": "code",
   "execution_count": 15,
   "metadata": {
    "ExecuteTime": {
     "end_time": "2020-06-25T21:19:04.615092Z",
     "start_time": "2020-06-25T21:19:04.600064Z"
    }
   },
   "outputs": [],
   "source": [
    "bets_2017.loc[bets_2017[bets_2017['date']<='2017-04-16'].index,'split'] = 1\n",
    "bets_2017.loc[bets_2017[bets_2017['date']>'2017-04-16'].index,'split'] = 2"
   ]
  },
  {
   "cell_type": "code",
   "execution_count": 16,
   "metadata": {
    "ExecuteTime": {
     "end_time": "2020-06-25T21:19:04.932737Z",
     "start_time": "2020-06-25T21:19:04.875108Z"
    }
   },
   "outputs": [],
   "source": [
    "bets_2018 = pd.read_excel('lol_bets_2018.xlsx')"
   ]
  },
  {
   "cell_type": "code",
   "execution_count": 17,
   "metadata": {
    "ExecuteTime": {
     "end_time": "2020-06-25T21:19:05.283239Z",
     "start_time": "2020-06-25T21:19:05.276288Z"
    }
   },
   "outputs": [],
   "source": [
    "bets_2018.columns = ['team_1','team_2','odd_1','odd_2','date']"
   ]
  },
  {
   "cell_type": "code",
   "execution_count": 18,
   "metadata": {
    "ExecuteTime": {
     "end_time": "2020-06-25T21:19:42.719288Z",
     "start_time": "2020-06-25T21:19:42.703224Z"
    }
   },
   "outputs": [],
   "source": [
    "bets_2018['week'] = bets_2018.date.dt.week\n",
    "bets_2018['week'] = bets_2018['week'] - bets_2018['week'].min() + 1\n",
    "bets_2018['week'] = bets_2018['week'].rank(method = 'dense').astype(int)+ bets_2017.week.max()\n",
    "bets_2018.sort_values('date', inplace = True)"
   ]
  },
  {
   "cell_type": "code",
   "execution_count": 19,
   "metadata": {
    "ExecuteTime": {
     "end_time": "2020-06-25T21:19:42.913251Z",
     "start_time": "2020-06-25T21:19:42.893748Z"
    }
   },
   "outputs": [],
   "source": [
    "bets_2018.loc[bets_2018[bets_2018['date']<'2018-06-01'].index,'split'] = 3\n",
    "bets_2018.loc[bets_2018[bets_2018['date']>'2018-06-01'].index,'split'] = 4"
   ]
  },
  {
   "cell_type": "code",
   "execution_count": 20,
   "metadata": {
    "ExecuteTime": {
     "end_time": "2020-06-25T21:19:43.089739Z",
     "start_time": "2020-06-25T21:19:43.083027Z"
    }
   },
   "outputs": [],
   "source": [
    "bets = pd.concat([bets_2017,bets_2018] )"
   ]
  },
  {
   "cell_type": "code",
   "execution_count": 21,
   "metadata": {
    "ExecuteTime": {
     "end_time": "2020-06-25T21:19:43.283569Z",
     "start_time": "2020-06-25T21:19:43.267542Z"
    }
   },
   "outputs": [],
   "source": [
    "total_eu_teams = list(bets[bets['team_1'] == 'Fnatic'].team_2.unique()) + ['Fnatic']\n",
    "total_na_teams = list(bets[bets['team_1'] == 'Cloud9'].team_2.unique()) + ['Cloud9']"
   ]
  },
  {
   "cell_type": "code",
   "execution_count": 22,
   "metadata": {
    "ExecuteTime": {
     "end_time": "2020-06-25T21:19:43.571742Z",
     "start_time": "2020-06-25T21:19:43.562674Z"
    }
   },
   "outputs": [],
   "source": [
    "eu_bets = bets[(bets.team_1.isin(total_eu_teams)) | (bets.team_2.isin(total_eu_teams))]\n",
    "na_bets = bets[(bets.team_1.isin(total_na_teams)) | (bets.team_2.isin(total_na_teams))]"
   ]
  },
  {
   "cell_type": "markdown",
   "metadata": {},
   "source": [
    "# ELO BETS"
   ]
  },
  {
   "cell_type": "code",
   "execution_count": 195,
   "metadata": {
    "ExecuteTime": {
     "end_time": "2020-06-25T21:51:06.387497Z",
     "start_time": "2020-06-25T21:51:06.364488Z"
    }
   },
   "outputs": [],
   "source": [
    "from elosports import elo\n",
    "eloLeague = elo.Elo(k = 20, homefield=0)"
   ]
  },
  {
   "cell_type": "code",
   "execution_count": 204,
   "metadata": {
    "ExecuteTime": {
     "end_time": "2020-06-25T21:51:28.444690Z",
     "start_time": "2020-06-25T21:51:28.401285Z"
    }
   },
   "outputs": [],
   "source": [
    "def train_elo(teams, num_weeks, data, k):\n",
    "    eloLeague = elo.Elo(k = k, homefield=0)\n",
    "    for team in teams:\n",
    "        eloLeague.addPlayer(team)\n",
    "    \n",
    "    train = data[data['week'].isin(np.arange(1,num_weeks+1))]\n",
    "    for i, row in train.iterrows():\n",
    "        team1 = row['team_1']\n",
    "        team2 = row['team_2']\n",
    "        if team1 not in eloLeague.ratingDict.keys():\n",
    "            eloLeague.addPlayer(team1)\n",
    "            eloLeague.ratingDict[team1] = np.mean(list(eloLeague.ratingDict.values()))\n",
    "\n",
    "        if team2 not in eloLeague.ratingDict.keys():\n",
    "            eloLeague.addPlayer(team2)\n",
    "            eloLeague.ratingDict[team2] = np.mean(list(eloLeague.ratingDict.values()))\n",
    "    \n",
    "        eloLeague.gameOver(winner = row['team_1'], loser = row['team_2'],winnerHome=0)\n",
    "    return eloLeague"
   ]
  },
  {
   "cell_type": "code",
   "execution_count": 205,
   "metadata": {
    "ExecuteTime": {
     "end_time": "2020-06-25T21:51:31.071684Z",
     "start_time": "2020-06-25T21:51:31.055281Z"
    }
   },
   "outputs": [],
   "source": [
    "def elo_betting(eloLeague,num_weeks ,data, threshold):\n",
    "    dollars = 100\n",
    "    wins = 0\n",
    "    losses = 0\n",
    "    ddt = []\n",
    "    wr_dt = []\n",
    "    test = data[~data['week'].isin(np.arange(num_weeks,2*num_weeks+1))]\n",
    "    for i, row in test.iterrows():\n",
    "        team1 = row['team_1']\n",
    "        team2 = row['team_2']\n",
    "\n",
    "        if team1 not in eloLeague.ratingDict.keys():\n",
    "            eloLeague.addPlayer(team1)\n",
    "            eloLeague.ratingDict[team1] = np.mean(list(eloLeague.ratingDict.values()))\n",
    "\n",
    "        if team2 not in eloLeague.ratingDict.keys():\n",
    "            eloLeague.addPlayer(team2)\n",
    "            eloLeague.ratingDict[team2] = np.mean(list(eloLeague.ratingDict.values()))\n",
    "\n",
    "        \n",
    "        try :\n",
    "            bet = float(row['odd_1'])\n",
    "        except:\n",
    "            bet = -1\n",
    "        \n",
    "        prob = eloLeague.expectResult(eloLeague.ratingDict[team1],eloLeague.ratingDict[team2])\n",
    "        \n",
    "        if prob > 0.5:\n",
    "            winner = team1\n",
    "        else:\n",
    "            winner = team2\n",
    "        \n",
    "        if bet>0:        \n",
    "            if winner == team1:\n",
    "                wins +=1\n",
    "                if prob >threshold or prob<1-threshold:\n",
    "                    dollars += 5*bet - 5\n",
    "#     - 5\n",
    "            else:\n",
    "                losses +=1\n",
    "                if prob >threshold or prob<1-threshold:\n",
    "                    dollars -= 5\n",
    "                \n",
    "        else:\n",
    "            if winner == team1:\n",
    "                wins+=1\n",
    "            else:\n",
    "                losses += 1\n",
    "                \n",
    "                \n",
    "        ddt.append(dollars)\n",
    "        wr_dt.append(wins/(wins+losses))\n",
    "        eloLeague.gameOver(winner = row['team_1'], loser = row['team_2'],winnerHome=0)\n",
    "    return dollars,wins,losses,ddt,wr_dt"
   ]
  },
  {
   "cell_type": "code",
   "execution_count": 206,
   "metadata": {
    "ExecuteTime": {
     "end_time": "2020-06-25T21:51:32.522900Z",
     "start_time": "2020-06-25T21:51:32.503958Z"
    }
   },
   "outputs": [],
   "source": [
    "def elo_eval(eloLeague ,data, threshold):\n",
    "    dollars = 100\n",
    "    wins = 0\n",
    "    losses = 0\n",
    "    ddt = []\n",
    "    wr_dt = []\n",
    "    probs = []\n",
    "    test = data[data['week'].isin(np.arange(0,200))]\n",
    "    for i, row in test.iterrows():\n",
    "        team1 = row['team_1']\n",
    "        team2 = row['team_2']\n",
    "\n",
    "        if team1 not in eloLeague.ratingDict.keys():\n",
    "            eloLeague.addPlayer(team1)\n",
    "            eloLeague.ratingDict[team1] = np.mean(list(eloLeague.ratingDict.values()))\n",
    "\n",
    "        if team2 not in eloLeague.ratingDict.keys():\n",
    "            eloLeague.addPlayer(team2)\n",
    "            eloLeague.ratingDict[team2] = np.mean(list(eloLeague.ratingDict.values()))\n",
    "\n",
    "        \n",
    "        try :\n",
    "            bet = float(row['odd_1'])\n",
    "        except:\n",
    "            bet = -1\n",
    "        \n",
    "        prob = eloLeague.expectResult(eloLeague.ratingDict[team1],eloLeague.ratingDict[team2])\n",
    "        \n",
    "        if prob >= 0.5:\n",
    "            winner = team1\n",
    "        else:\n",
    "            winner = team2\n",
    "        \n",
    "        probs.append(prob)\n",
    "        \n",
    "        if bet>0:        \n",
    "            if winner == team1:\n",
    "                wins +=1\n",
    "                if prob >threshold or prob<1-threshold:\n",
    "                    dollars += 5*bet - 5\n",
    "#     - 5\n",
    "            else:\n",
    "#                 probs.append(prob)\n",
    "                losses +=1\n",
    "                if prob >threshold or prob<1-threshold:\n",
    "                    dollars -= 5\n",
    "                \n",
    "        else:\n",
    "            if winner == team1:\n",
    "                wins+=1\n",
    "            else:\n",
    "                losses += 1\n",
    "\n",
    "        ddt.append(dollars)\n",
    "        wr_dt.append(wins/(wins+losses))\n",
    "        eloLeague.gameOver(winner = row['team_1'], loser = row['team_2'],winnerHome=0)\n",
    "    return dollars,wins,losses,ddt,wr_dt,probs"
   ]
  },
  {
   "cell_type": "code",
   "execution_count": 393,
   "metadata": {
    "ExecuteTime": {
     "end_time": "2020-06-25T23:48:25.695910Z",
     "start_time": "2020-06-25T23:48:14.756676Z"
    }
   },
   "outputs": [],
   "source": [
    "dollars_elo = [0]\n",
    "wins_elo = []\n",
    "losses_elo = []\n",
    "precision = []\n",
    "best_k_elo = 0\n",
    "best_games_elo = 0\n",
    "\n",
    "\n",
    "for k in range(1, 100):\n",
    "    eloLeague = train_elo(start_na_teams, 5.5, na_bets, k)\n",
    "    dollars, wins, losses, ddt_elo,wr_dt_elo = elo_betting(eloLeague, 5.5, na_bets, 0.75)\n",
    "    dollars_elo.append(dollars)\n",
    "    wins_elo.append(wins)\n",
    "    losses_elo.append(losses)\n",
    "    if dollars > max(dollars_elo[:-1]):\n",
    "        best_k_elo = k\n",
    "    precision.append(wins/(losses + wins))"
   ]
  },
  {
   "cell_type": "code",
   "execution_count": 394,
   "metadata": {
    "ExecuteTime": {
     "end_time": "2020-06-25T23:48:25.718572Z",
     "start_time": "2020-06-25T23:48:25.700951Z"
    }
   },
   "outputs": [
    {
     "data": {
      "text/plain": [
       "23"
      ]
     },
     "execution_count": 394,
     "metadata": {},
     "output_type": "execute_result"
    }
   ],
   "source": [
    "best_k_elo"
   ]
  },
  {
   "cell_type": "code",
   "execution_count": 460,
   "metadata": {
    "ExecuteTime": {
     "end_time": "2020-06-26T00:05:34.517037Z",
     "start_time": "2020-06-26T00:05:34.368056Z"
    }
   },
   "outputs": [],
   "source": [
    "eloLeague = train_elo(start_na_teams, 20, na_bets[na_bets.split.isin([1])], best_k_elo)\n",
    "dollars, wins, losses, ddt_elo_graph,wr_dt_elo_graph, probs = elo_eval(eloLeague, na_bets[na_bets.split.isin([2,3,4])],0.75)\n",
    "\n"
   ]
  },
  {
   "cell_type": "code",
   "execution_count": 461,
   "metadata": {
    "ExecuteTime": {
     "end_time": "2020-06-26T00:05:35.702811Z",
     "start_time": "2020-06-26T00:05:35.317083Z"
    }
   },
   "outputs": [
    {
     "data": {
      "text/plain": [
       "[]"
      ]
     },
     "execution_count": 461,
     "metadata": {},
     "output_type": "execute_result"
    },
    {
     "data": {
      "image/png": "[encoded data removed]",
      "text/plain": [
       "<Figure size 432x288 with 1 Axes>"
      ]
     },
     "metadata": {
      "needs_background": "light"
     },
     "output_type": "display_data"
    }
   ],
   "source": [
    "plt.plot(ddt_elo_graph)\n",
    "plt.xlabel('Number of games after calibration')\n",
    "plt.ylabel('Win rate')\n",
    "plt.title('ELO win rate over time (k = {})'.format(best_k_elo))\n",
    "plt.plot()"
   ]
  },
  {
   "cell_type": "code",
   "execution_count": 399,
   "metadata": {
    "ExecuteTime": {
     "end_time": "2020-06-25T23:50:29.555282Z",
     "start_time": "2020-06-25T23:50:29.539179Z"
    }
   },
   "outputs": [
    {
     "data": {
      "text/plain": [
       "(171, 118, 0.5916955017301038, 94.10000000000001)"
      ]
     },
     "execution_count": 399,
     "metadata": {},
     "output_type": "execute_result"
    }
   ],
   "source": [
    "wins, losses, wins/(wins+losses), dollars"
   ]
  },
  {
   "cell_type": "code",
   "execution_count": 401,
   "metadata": {
    "ExecuteTime": {
     "end_time": "2020-06-25T23:51:38.126407Z",
     "start_time": "2020-06-25T23:51:37.597626Z"
    }
   },
   "outputs": [
    {
     "data": {
      "text/plain": [
       "[]"
      ]
     },
     "execution_count": 401,
     "metadata": {},
     "output_type": "execute_result"
    },
    {
     "data": {
      "image/png": "[encoded data removed]",
      "text/plain": [
       "<Figure size 432x288 with 1 Axes>"
      ]
     },
     "metadata": {
      "needs_background": "light"
     },
     "output_type": "display_data"
    }
   ],
   "source": [
    "plt.plot(ddt_elo_graph)\n",
    "plt.xlabel('Number of games after calibration')\n",
    "plt.ylabel('Dollars')\n",
    "plt.title('ELO dollars amount over time (k = {})'.format(best_k_elo))\n",
    "plt.plot()"
   ]
  },
  {
   "cell_type": "code",
   "execution_count": 404,
   "metadata": {
    "ExecuteTime": {
     "end_time": "2020-06-25T23:54:34.049010Z",
     "start_time": "2020-06-25T23:54:33.910580Z"
    }
   },
   "outputs": [],
   "source": [
    "eloLeague = train_elo(start_na_teams, 20, na_bets[na_bets.split.isin([1])], best_k_elo)\n",
    "dollars, wins, losses, ddt_elo,wr_dt_elo,_ = elo_eval(eloLeague, na_bets[na_bets.split.isin([2])],0.75)\n",
    "\n"
   ]
  },
  {
   "cell_type": "code",
   "execution_count": 405,
   "metadata": {
    "ExecuteTime": {
     "end_time": "2020-06-25T23:54:35.229467Z",
     "start_time": "2020-06-25T23:54:35.208213Z"
    }
   },
   "outputs": [],
   "source": [
    "pd.DataFrame.from_dict(eloLeague.ratingDict,orient='index').to_clipboard()"
   ]
  },
  {
   "cell_type": "markdown",
   "metadata": {},
   "source": [
    "# Bets Trueskill"
   ]
  },
  {
   "cell_type": "code",
   "execution_count": 406,
   "metadata": {
    "ExecuteTime": {
     "end_time": "2020-06-25T23:55:28.813747Z",
     "start_time": "2020-06-25T23:55:28.781162Z"
    }
   },
   "outputs": [],
   "source": [
    "import trueskill"
   ]
  },
  {
   "cell_type": "code",
   "execution_count": 407,
   "metadata": {
    "ExecuteTime": {
     "end_time": "2020-06-25T23:55:28.959910Z",
     "start_time": "2020-06-25T23:55:28.951345Z"
    }
   },
   "outputs": [],
   "source": [
    "env = trueskill.TrueSkill(draw_probability=0)"
   ]
  },
  {
   "cell_type": "code",
   "execution_count": 408,
   "metadata": {
    "ExecuteTime": {
     "end_time": "2020-06-25T23:55:29.104295Z",
     "start_time": "2020-06-25T23:55:29.093060Z"
    }
   },
   "outputs": [],
   "source": [
    "init_skills = [trueskill.Rating() for team in start_eu_teams]"
   ]
  },
  {
   "cell_type": "code",
   "execution_count": 409,
   "metadata": {
    "ExecuteTime": {
     "end_time": "2020-06-25T23:55:30.615356Z",
     "start_time": "2020-06-25T23:55:30.606241Z"
    }
   },
   "outputs": [],
   "source": [
    "na_teams_skills = dict(zip(start_na_teams,init_skills))"
   ]
  },
  {
   "cell_type": "code",
   "execution_count": 410,
   "metadata": {
    "ExecuteTime": {
     "end_time": "2020-06-25T23:55:35.011929Z",
     "start_time": "2020-06-25T23:55:34.967518Z"
    }
   },
   "outputs": [],
   "source": [
    "import itertools\n",
    "import math\n",
    "def win_probability(team1, team2):\n",
    "    delta_mu = sum(r.mu for r in team1) - sum(r.mu for r in team2)\n",
    "    sum_sigma = sum(r.sigma ** 2 for r in itertools.chain(team1, team2))\n",
    "    size = len(team1) + len(team2)\n",
    "    denom = math.sqrt(size * (trueskill.BETA * trueskill.BETA) + sum_sigma)\n",
    "    ts = trueskill.global_env()\n",
    "    return ts.cdf(delta_mu / denom)"
   ]
  },
  {
   "cell_type": "code",
   "execution_count": null,
   "metadata": {},
   "outputs": [],
   "source": []
  },
  {
   "cell_type": "code",
   "execution_count": 411,
   "metadata": {
    "ExecuteTime": {
     "end_time": "2020-06-25T23:55:36.983275Z",
     "start_time": "2020-06-25T23:55:36.971294Z"
    }
   },
   "outputs": [],
   "source": [
    "def train_trueskill(teams, num_weeks, data):\n",
    "#     env = trueskill.TrueSkill(draw_probability=0,tau = tau, beta = tau*100/2, sigma = tau*100)\n",
    "\n",
    "    init_skills = [trueskill.Rating() for team in teams]\n",
    "    eu_teams_skills = dict(zip(teams,init_skills))\n",
    "    \n",
    "    train = data[data['week'].isin(np.arange(1,num_weeks+1))]\n",
    "\n",
    "    for i, row in train.iterrows():\n",
    "        team1, team2 = row['team_1'],row['team_2']\n",
    "        avg_mean = np.mean([val.mu for val in list(eu_teams_skills.values())])\n",
    "        avg_sigma = np.mean([val.sigma for val in list(eu_teams_skills.values())])\n",
    "\n",
    "        if team1 not in eu_teams_skills.keys():\n",
    "            eu_teams_skills[team1] = trueskill.Rating()\n",
    "            eu_teams_skills[team1].mu = avg_mean\n",
    "            eu_teams_skills[team1].sigma = avg_sigma\n",
    "\n",
    "        if team2 not in eu_teams_skills.keys():\n",
    "            eu_teams_skills[team1] = trueskill.Rating()\n",
    "            eu_teams_skills[team2].mu = avg_mean\n",
    "            eu_teams_skills[team2].sigma = avg_sigma\n",
    "\n",
    "        eu_teams_skills[team1],eu_teams_skills[team2] = trueskill.rate_1vs1(eu_teams_skills[team1],eu_teams_skills[team2], env = env)\n",
    "    return eu_teams_skills"
   ]
  },
  {
   "cell_type": "code",
   "execution_count": 412,
   "metadata": {
    "ExecuteTime": {
     "end_time": "2020-06-25T23:55:38.094022Z",
     "start_time": "2020-06-25T23:55:38.072600Z"
    }
   },
   "outputs": [],
   "source": [
    "def trueskill_betting(eu_teams_skills, num_weeks, data,threshold):\n",
    "#     env = trueskill.TrueSkill(draw_probability=0, tau = tau, beta = tau*100/2, sigma = tau*100)\n",
    "    dollars = 100\n",
    "    wins = 0\n",
    "    losses = 0\n",
    "    ddt = []\n",
    "    wr_dt = []\n",
    "    test = data[data['week'].isin(np.arange(num_weeks,num_weeks*2+1))]\n",
    "    for i, row in test.iterrows():\n",
    "        team1 = row['team_1']\n",
    "        team2 = row['team_2']\n",
    "        \n",
    "        avg_mean = np.mean([val.mu for val in list(eu_teams_skills.values())])\n",
    "        avg_sigma = np.mean([val.sigma for val in list(eu_teams_skills.values())])\n",
    "\n",
    "        if team1 not in eu_teams_skills.keys():\n",
    "            eu_teams_skills[team1] = trueskill.Rating(avg_mean, avg_sigma)\n",
    "\n",
    "        if team2 not in eu_teams_skills.keys():\n",
    "            eu_teams_skills[team2] = trueskill.Rating(avg_mean, avg_sigma)\n",
    "\n",
    "        \n",
    "        \n",
    "        try :\n",
    "            bet = float(row['odd_1'])\n",
    "        except:\n",
    "            bet = -1\n",
    "        \n",
    "        prob = win_probability([eu_teams_skills[team1]],[eu_teams_skills[team2]])\n",
    "        \n",
    "        if prob > 0.5:\n",
    "            winner = team1\n",
    "        else:\n",
    "            winner = team2\n",
    "            \n",
    "            \n",
    "        if bet>0:        \n",
    "            if winner == team1:\n",
    "                wins +=1\n",
    "                if prob > threshold or prob < 1 - threshold:\n",
    "                    dollars += 5*bet - 5 \n",
    "            else:\n",
    "                if prob > threshold or prob < 1 - threshold:\n",
    "                    dollars -= 5\n",
    "                losses +=1\n",
    "        else:\n",
    "            if winner == team1:\n",
    "                wins+=1\n",
    "            else:\n",
    "                losses += 1\n",
    "        \n",
    "        ddt.append(dollars)\n",
    "        wr_dt.append(wins/(wins+losses))\n",
    "\n",
    "        eu_teams_skills[team1],eu_teams_skills[team2] = trueskill.rate_1vs1(eu_teams_skills[team1],eu_teams_skills[team2], env = env)\n",
    "\n",
    "    return dollars,wins,losses,ddt,wr_dt"
   ]
  },
  {
   "cell_type": "code",
   "execution_count": 413,
   "metadata": {
    "ExecuteTime": {
     "end_time": "2020-06-25T23:55:39.249488Z",
     "start_time": "2020-06-25T23:55:39.227715Z"
    }
   },
   "outputs": [],
   "source": [
    "def trueskill_eval(eu_teams_skills, data, threshold):\n",
    "#     env = trueskill.TrueSkill(draw_probability=0, tau = tau, beta = tau*100/2, sigma = tau*100)\n",
    "    dollars = 100\n",
    "    wins = 0\n",
    "    losses = 0\n",
    "    ddt = []\n",
    "    wr_dt = []\n",
    "    test = data[data['week'].isin(np.arange(0,100))]\n",
    "    for i, row in test.iterrows():\n",
    "        team1 = row['team_1']\n",
    "        team2 = row['team_2']\n",
    "        \n",
    "        avg_mean = np.mean([val.mu for val in list(eu_teams_skills.values())])\n",
    "        avg_sigma = np.mean([val.sigma for val in list(eu_teams_skills.values())])\n",
    "\n",
    "        if team1 not in eu_teams_skills.keys():\n",
    "            eu_teams_skills[team1] = trueskill.Rating(avg_mean, avg_sigma)\n",
    "\n",
    "        if team2 not in eu_teams_skills.keys():\n",
    "            eu_teams_skills[team2] = trueskill.Rating(avg_mean, avg_sigma)\n",
    "\n",
    "\n",
    "        \n",
    "        \n",
    "        try :\n",
    "            bet = float(row['odd_1'])\n",
    "        except:\n",
    "            bet = -1\n",
    "        \n",
    "        \n",
    "        prob = win_probability([eu_teams_skills[team1]],[eu_teams_skills[team2]])\n",
    "        \n",
    "        if prob > 0.5:\n",
    "            winner = team1\n",
    "        else:\n",
    "            winner = team2\n",
    "            \n",
    "            \n",
    "        if bet>0:        \n",
    "            if winner == team1:\n",
    "                wins +=1\n",
    "                if prob > threshold or prob < 1 - threshold:\n",
    "                    dollars += 5*bet - 5\n",
    "            else:\n",
    "                if prob > threshold or prob < 1 - threshold:\n",
    "                    dollars -= 5\n",
    "                losses +=1\n",
    "        else:\n",
    "            if winner == team1:\n",
    "                wins+=1\n",
    "            else:\n",
    "                losses += 1\n",
    "                \n",
    "        ddt.append(dollars)\n",
    "        wr_dt.append(wins/(wins+losses))\n",
    "\n",
    "        eu_teams_skills[team1],eu_teams_skills[team2] = trueskill.rate_1vs1(eu_teams_skills[team1],eu_teams_skills[team2], env = env)\n",
    "\n",
    "    return dollars,wins,losses,ddt,wr_dt"
   ]
  },
  {
   "cell_type": "code",
   "execution_count": 414,
   "metadata": {
    "ExecuteTime": {
     "end_time": "2020-06-25T23:56:02.285538Z",
     "start_time": "2020-06-25T23:56:01.831975Z"
    },
    "scrolled": true
   },
   "outputs": [],
   "source": [
    "dollars_trueskill = [0]\n",
    "wins_trueskill = []\n",
    "losses_trueskill = []\n",
    "precision_trueskill = []\n",
    "best_tau_trueskill = 0\n",
    "best_sigma_trueskill = 0\n",
    "best_beta_trueskill = 0\n",
    "\n",
    "\n",
    "for beta in np.arange(1.0,5.0):\n",
    "#             env = trueskill.TrueSkill(draw_probability=0,tau = tau, beta = tau*100/2, sigma = tau*100)\n",
    "    env = trueskill.TrueSkill(draw_probability=0,tau = 1, beta = 0.5)\n",
    "    env.make_as_global()\n",
    "    na_teams_skills = train_trueskill(start_na_teams, 5.5, na_bets)\n",
    "    dollars, wins, losses,ddt_ts,wr_dt_ts = trueskill_betting(na_teams_skills, 5.5, na_bets,0.75)\n",
    "    dollars_trueskill.append(dollars)\n",
    "    wins_trueskill.append(wins)\n",
    "    losses_trueskill.append(losses)\n",
    "    precision_trueskill.append(wins/(losses + wins))\n",
    "    if dollars > max(dollars_trueskill[:-1]):\n",
    "#         best_tau_trueskill = tau\n",
    "#         best_sigma_trueskill = sigma\n",
    "        best_beta_trueskill = beta\n"
   ]
  },
  {
   "cell_type": "code",
   "execution_count": 417,
   "metadata": {
    "ExecuteTime": {
     "end_time": "2020-06-25T23:57:36.508372Z",
     "start_time": "2020-06-25T23:57:36.008800Z"
    }
   },
   "outputs": [],
   "source": [
    "env = trueskill.TrueSkill(draw_probability=0, beta = best_beta_trueskill)\n",
    "env.make_as_global()\n",
    "\n",
    "na_teams_skills = train_trueskill(start_na_teams, 20, na_bets[na_bets.split.isin([1])])\n",
    "dollars, wins, losses,ddt_ts_graph,wr_dt_ts_graph = trueskill_eval(na_teams_skills,  na_bets[na_bets.split.isin([2,3,4])], 0.75)\n",
    "\n"
   ]
  },
  {
   "cell_type": "code",
   "execution_count": 418,
   "metadata": {
    "ExecuteTime": {
     "end_time": "2020-06-25T23:57:37.714352Z",
     "start_time": "2020-06-25T23:57:37.269200Z"
    }
   },
   "outputs": [
    {
     "data": {
      "text/plain": [
       "[<matplotlib.lines.Line2D at 0x1358ef890>]"
      ]
     },
     "execution_count": 418,
     "metadata": {},
     "output_type": "execute_result"
    },
    {
     "data": {
      "image/png": "[encoded data removed]",
      "text/plain": [
       "<Figure size 432x288 with 1 Axes>"
      ]
     },
     "metadata": {
      "needs_background": "light"
     },
     "output_type": "display_data"
    }
   ],
   "source": [
    "plt.plot(wr_dt_ts_graph)"
   ]
  },
  {
   "cell_type": "code",
   "execution_count": 419,
   "metadata": {
    "ExecuteTime": {
     "end_time": "2020-06-25T23:57:38.547659Z",
     "start_time": "2020-06-25T23:57:38.532999Z"
    }
   },
   "outputs": [],
   "source": [
    "pd.DataFrame.from_dict(na_teams_skills, orient = 'index').to_clipboard()"
   ]
  },
  {
   "cell_type": "code",
   "execution_count": 420,
   "metadata": {
    "ExecuteTime": {
     "end_time": "2020-06-25T23:57:40.551272Z",
     "start_time": "2020-06-25T23:57:40.005209Z"
    }
   },
   "outputs": [
    {
     "data": {
      "text/plain": [
       "[]"
      ]
     },
     "execution_count": 420,
     "metadata": {},
     "output_type": "execute_result"
    },
    {
     "data": {
      "image/png": "[encoded data removed]",
      "text/plain": [
       "<Figure size 432x288 with 1 Axes>"
      ]
     },
     "metadata": {
      "needs_background": "light"
     },
     "output_type": "display_data"
    }
   ],
   "source": [
    "plt.plot(ddt_ts)\n",
    "plt.xlabel('Number of games after calibration')\n",
    "plt.ylabel('Dollars')\n",
    "plt.title('TrueSkill dollars amount over time (beta = {})'.format(best_beta_trueskill))\n",
    "plt.plot()"
   ]
  },
  {
   "cell_type": "code",
   "execution_count": 421,
   "metadata": {
    "ExecuteTime": {
     "end_time": "2020-06-25T23:57:46.221572Z",
     "start_time": "2020-06-25T23:57:45.184161Z"
    }
   },
   "outputs": [
    {
     "data": {
      "text/plain": [
       "[]"
      ]
     },
     "execution_count": 421,
     "metadata": {},
     "output_type": "execute_result"
    },
    {
     "data": {
      "image/png": "[encoded data removed]",
      "text/plain": [
       "<Figure size 432x288 with 1 Axes>"
      ]
     },
     "metadata": {
      "needs_background": "light"
     },
     "output_type": "display_data"
    }
   ],
   "source": [
    "plt.plot(wr_dt_ts)\n",
    "plt.xlabel('Number of games after calibration')\n",
    "plt.ylabel('Win rate')\n",
    "plt.title('TrueSkill win rate over time (beta = {})'.format(best_beta_trueskill))\n",
    "plt.plot()"
   ]
  },
  {
   "cell_type": "code",
   "execution_count": 422,
   "metadata": {
    "ExecuteTime": {
     "end_time": "2020-06-25T23:57:49.578321Z",
     "start_time": "2020-06-25T23:57:49.440179Z"
    }
   },
   "outputs": [
    {
     "data": {
      "text/plain": [
       "(166, 123, 0.5743944636678201, 95)"
      ]
     },
     "execution_count": 422,
     "metadata": {},
     "output_type": "execute_result"
    }
   ],
   "source": [
    "(wins, losses, wins/(wins+losses), dollars)"
   ]
  },
  {
   "cell_type": "code",
   "execution_count": 432,
   "metadata": {
    "ExecuteTime": {
     "end_time": "2020-06-26T00:01:00.177908Z",
     "start_time": "2020-06-26T00:00:59.774750Z"
    }
   },
   "outputs": [],
   "source": [
    "na_teams_skills = train_trueskill(start_na_teams, 20, na_bets[na_bets.split.isin([1])])\n",
    "dollars, wins, losses,ddt_ts,wr_dt_ts = trueskill_eval(na_teams_skills,  na_bets[na_bets.split.isin([2,3,4])], 0.75)\n"
   ]
  },
  {
   "cell_type": "code",
   "execution_count": 434,
   "metadata": {
    "ExecuteTime": {
     "end_time": "2020-06-26T00:01:32.320623Z",
     "start_time": "2020-06-26T00:01:32.296756Z"
    }
   },
   "outputs": [],
   "source": [
    "# pd.Series([k for k in na_teams_skills.keys()]).to_clipboard()\n",
    "pd.Series([v.mu for v in na_teams_skills.values()]).to_clipboard()"
   ]
  },
  {
   "cell_type": "markdown",
   "metadata": {},
   "source": [
    "# Glicko2 betting"
   ]
  },
  {
   "cell_type": "code",
   "execution_count": 310,
   "metadata": {
    "ExecuteTime": {
     "end_time": "2020-06-25T23:16:11.436645Z",
     "start_time": "2020-06-25T23:16:11.406628Z"
    }
   },
   "outputs": [],
   "source": [
    "import glicko2"
   ]
  },
  {
   "cell_type": "code",
   "execution_count": 316,
   "metadata": {
    "ExecuteTime": {
     "end_time": "2020-06-25T23:18:33.800772Z",
     "start_time": "2020-06-25T23:18:33.717033Z"
    }
   },
   "outputs": [],
   "source": [
    "def train_glicko(teams, num_weeks, data, phi):\n",
    "    g2 = glicko2.Glicko2(tau = tau, phi = phi)\n",
    "    init_skills_glicko = [g2.create_rating() for team in teams]\n",
    "    eu_teams_glicko = dict(zip(teams,init_skills_glicko))\n",
    "    \n",
    "    train = data[data['week'].isin(np.arange(1,num_weeks+1))]\n",
    "\n",
    "    for i, row in train.iterrows():\n",
    "        team_1, team_2 = row['team_1'],row['team_2']\n",
    "        avg_mean = np.mean([val.mu for val in list(eu_teams_glicko.values())])\n",
    "        avg_phi = np.mean([val.phi for val in list(eu_teams_glicko.values())])\n",
    "\n",
    "        if team_1 not in eu_teams_glicko.keys():\n",
    "            eu_teams_glicko[team_1] = g2.create_rating(mu = avg_mean, phi = avg_phi)\n",
    "\n",
    "        if team_2 not in eu_teams_glicko.keys():\n",
    "            eu_teams_glicko[team_2] = g2.create_rating(mu = avg_mean, phi = avg_phi)\n",
    "\n",
    "        eu_teams_glicko[team_1],eu_teams_glicko[team_2] = g2.rate_1vs1(eu_teams_glicko[team_1],eu_teams_glicko[team_2])\n",
    "    return eu_teams_glicko\n"
   ]
  },
  {
   "cell_type": "code",
   "execution_count": 334,
   "metadata": {
    "ExecuteTime": {
     "end_time": "2020-06-25T23:20:46.336836Z",
     "start_time": "2020-06-25T23:20:46.312703Z"
    }
   },
   "outputs": [],
   "source": [
    "def glicko_betting(eu_teams_glicko, num_weeks ,data, phi,threshold):\n",
    "    dollars = 100\n",
    "    wins = 0\n",
    "    losses = 0\n",
    "    test = data[data['week'].isin(np.arange(num_weeks,num_weeks*2+1))]\n",
    "    ddt = []\n",
    "    wr_dt = []\n",
    "    \n",
    "    g2 = glicko2.Glicko2(phi = phi)\n",
    "    \n",
    "    for i, row in test.iterrows():\n",
    "        team_1 = row['team_1']\n",
    "        team_2 = row['team_2']\n",
    "        \n",
    "        avg_mean = np.mean([val.mu for val in list(eu_teams_glicko.values())])\n",
    "        avg_phi = np.mean([val.phi for val in list(eu_teams_glicko.values())])\n",
    "        \n",
    "        if team_1 not in eu_teams_glicko.keys():\n",
    "            eu_teams_glicko[team_1] = g2.create_rating(mu = avg_mean, phi = avg_phi)\n",
    "\n",
    "        if team_2 not in eu_teams_glicko.keys():\n",
    "            eu_teams_glicko[team_2] = g2.create_rating(mu = avg_mean, phi = avg_phi)\n",
    "\n",
    "        \n",
    "        try :\n",
    "            bet = float(row['odd_1'])\n",
    "        except:\n",
    "            bet = -1\n",
    "\n",
    "        prob = g2.expect_score(eu_teams_glicko[team_1],eu_teams_glicko[team_2],g2.reduce_impact(eu_teams_glicko[team_1]))\n",
    "            \n",
    "        if prob  > 0.5:\n",
    "            winner = team_1\n",
    "        else:\n",
    "            winner = team_2\n",
    "            \n",
    "        if bet>0:        \n",
    "            if winner == team_1:\n",
    "                if prob > threshold or prob < 1 - threshold:\n",
    "                    dollars += 5*bet -5 \n",
    "                wins +=1\n",
    "            else:\n",
    "                if prob > threshold or prob < 1 - threshold:\n",
    "                    dollars -= 5\n",
    "                losses +=1\n",
    "        else:\n",
    "            if winner == team_1:\n",
    "                wins+=1\n",
    "            else:\n",
    "                losses += 1\n",
    "                \n",
    "        ddt.append(dollars)\n",
    "        wr_dt.append(wins/(wins+losses))\n",
    "\n",
    " \n",
    "        eu_teams_glicko[team_1],eu_teams_glicko[team_2] = g2.rate_1vs1(eu_teams_glicko[team_1],eu_teams_glicko[team_2])\n",
    "\n",
    "\n",
    "    return dollars,wins,losses,ddt,wr_dt"
   ]
  },
  {
   "cell_type": "code",
   "execution_count": 335,
   "metadata": {
    "ExecuteTime": {
     "end_time": "2020-06-25T23:20:46.588627Z",
     "start_time": "2020-06-25T23:20:46.551601Z"
    }
   },
   "outputs": [],
   "source": [
    "def glicko_eval(eu_teams_glicko, data, phi, threshold):\n",
    "    dollars = 100\n",
    "    wins = 0\n",
    "    losses = 0\n",
    "    test = data[data['week'].isin(np.arange(0,100))]\n",
    "    ddt = [] \n",
    "    wr_dt = []\n",
    "    \n",
    "    g2 = glicko2.Glicko2(phi = phi)\n",
    "    \n",
    "    for i, row in test.iterrows():\n",
    "        team_1 = row['team_1']\n",
    "        team_2 = row['team_2']\n",
    "        \n",
    "        avg_mean = np.mean([val.mu for val in list(eu_teams_glicko.values())])\n",
    "        avg_phi = np.mean([val.phi for val in list(eu_teams_glicko.values())])\n",
    "        \n",
    "        if team_1 not in eu_teams_glicko.keys():\n",
    "            eu_teams_glicko[team_1] = g2.create_rating(mu = avg_mean, phi = avg_phi)\n",
    "\n",
    "        if team_2 not in eu_teams_glicko.keys():\n",
    "            eu_teams_glicko[team_2] = g2.create_rating(mu = avg_mean, phi = avg_phi)\n",
    "\n",
    "        \n",
    "        try :\n",
    "            bet = float(row['odd_1'])\n",
    "        except:\n",
    "            bet = -1\n",
    "\n",
    "        prob = g2.expect_score(eu_teams_glicko[team_1],eu_teams_glicko[team_2],g2.reduce_impact(eu_teams_glicko[team_1]))\n",
    "            \n",
    "        if prob  > 0.5:\n",
    "            winner = team_1\n",
    "        else:\n",
    "            winner = team_2\n",
    "            \n",
    "        if bet>0:        \n",
    "            if winner == team_1:\n",
    "                if prob > threshold or prob < 1 - threshold:\n",
    "                    dollars += 5*bet - 5\n",
    "                wins +=1\n",
    "            else:\n",
    "                if prob > threshold or prob < 1 - threshold:\n",
    "                    dollars -= 5\n",
    "                losses +=1\n",
    "        else:\n",
    "            if winner == team_1:\n",
    "                wins+=1\n",
    "            else:\n",
    "                losses += 1\n",
    "                \n",
    "        ddt.append(dollars)\n",
    "        wr_dt.append(wins/(wins+losses))\n",
    "\n",
    " \n",
    "        eu_teams_glicko[team_1],eu_teams_glicko[team_2] = g2.rate_1vs1(eu_teams_glicko[team_1],eu_teams_glicko[team_2])\n",
    "\n",
    "\n",
    "    return dollars,wins,losses,ddt,wr_dt"
   ]
  },
  {
   "cell_type": "code",
   "execution_count": 487,
   "metadata": {
    "ExecuteTime": {
     "end_time": "2020-06-26T23:17:31.293206Z",
     "start_time": "2020-06-26T23:17:31.253088Z"
    }
   },
   "outputs": [
    {
     "data": {
      "text/html": [
       "<div>\n",
       "<style scoped>\n",
       "    .dataframe tbody tr th:only-of-type {\n",
       "        vertical-align: middle;\n",
       "    }\n",
       "\n",
       "    .dataframe tbody tr th {\n",
       "        vertical-align: top;\n",
       "    }\n",
       "\n",
       "    .dataframe thead th {\n",
       "        text-align: right;\n",
       "    }\n",
       "</style>\n",
       "<table border=\"1\" class=\"dataframe\">\n",
       "  <thead>\n",
       "    <tr style=\"text-align: right;\">\n",
       "      <th></th>\n",
       "      <th>date</th>\n",
       "      <th>team_1</th>\n",
       "      <th>team_2</th>\n",
       "      <th>odd_1</th>\n",
       "      <th>odd_2</th>\n",
       "      <th>week</th>\n",
       "      <th>split</th>\n",
       "    </tr>\n",
       "  </thead>\n",
       "  <tbody>\n",
       "    <tr>\n",
       "      <th>2</th>\n",
       "      <td>2017-01-20</td>\n",
       "      <td>Cloud9</td>\n",
       "      <td>Team Solomid</td>\n",
       "      <td>2.18</td>\n",
       "      <td>1.61</td>\n",
       "      <td>1</td>\n",
       "      <td>1.0</td>\n",
       "    </tr>\n",
       "    <tr>\n",
       "      <th>1</th>\n",
       "      <td>2017-01-21</td>\n",
       "      <td>Phoenix1</td>\n",
       "      <td>Echo Fox</td>\n",
       "      <td>1.40</td>\n",
       "      <td>2.73</td>\n",
       "      <td>1</td>\n",
       "      <td>1.0</td>\n",
       "    </tr>\n",
       "    <tr>\n",
       "      <th>96</th>\n",
       "      <td>2017-01-21</td>\n",
       "      <td>Immortals</td>\n",
       "      <td>Echo Fox</td>\n",
       "      <td>1.24</td>\n",
       "      <td>3.64</td>\n",
       "      <td>1</td>\n",
       "      <td>1.0</td>\n",
       "    </tr>\n",
       "    <tr>\n",
       "      <th>17</th>\n",
       "      <td>2017-01-21</td>\n",
       "      <td>Team Liquid</td>\n",
       "      <td>Counter Logic Gaming</td>\n",
       "      <td>2.06</td>\n",
       "      <td>1.68</td>\n",
       "      <td>1</td>\n",
       "      <td>1.0</td>\n",
       "    </tr>\n",
       "    <tr>\n",
       "      <th>245</th>\n",
       "      <td>2017-01-22</td>\n",
       "      <td>Team Solomid</td>\n",
       "      <td>Immortals</td>\n",
       "      <td>1.46</td>\n",
       "      <td>2.54</td>\n",
       "      <td>1</td>\n",
       "      <td>1.0</td>\n",
       "    </tr>\n",
       "    <tr>\n",
       "      <th>...</th>\n",
       "      <td>...</td>\n",
       "      <td>...</td>\n",
       "      <td>...</td>\n",
       "      <td>...</td>\n",
       "      <td>...</td>\n",
       "      <td>...</td>\n",
       "      <td>...</td>\n",
       "    </tr>\n",
       "    <tr>\n",
       "      <th>2</th>\n",
       "      <td>2018-09-08</td>\n",
       "      <td>Team Solomid</td>\n",
       "      <td>100 Thieves</td>\n",
       "      <td>1.46</td>\n",
       "      <td>2.55</td>\n",
       "      <td>49</td>\n",
       "      <td>4.0</td>\n",
       "    </tr>\n",
       "    <tr>\n",
       "      <th>215</th>\n",
       "      <td>2018-09-09</td>\n",
       "      <td>Team Liquid</td>\n",
       "      <td>Cloud9</td>\n",
       "      <td>1.61</td>\n",
       "      <td>2.14</td>\n",
       "      <td>49</td>\n",
       "      <td>4.0</td>\n",
       "    </tr>\n",
       "    <tr>\n",
       "      <th>12</th>\n",
       "      <td>2018-09-14</td>\n",
       "      <td>Echo Fox</td>\n",
       "      <td>Clutch Gaming</td>\n",
       "      <td>1.28</td>\n",
       "      <td>3.38</td>\n",
       "      <td>50</td>\n",
       "      <td>4.0</td>\n",
       "    </tr>\n",
       "    <tr>\n",
       "      <th>13</th>\n",
       "      <td>2018-09-15</td>\n",
       "      <td>Team Solomid</td>\n",
       "      <td>Echo Fox</td>\n",
       "      <td>1.60</td>\n",
       "      <td>2.17</td>\n",
       "      <td>50</td>\n",
       "      <td>4.0</td>\n",
       "    </tr>\n",
       "    <tr>\n",
       "      <th>14</th>\n",
       "      <td>2018-09-16</td>\n",
       "      <td>Cloud9</td>\n",
       "      <td>Team Solomid</td>\n",
       "      <td>1.89</td>\n",
       "      <td>1.86</td>\n",
       "      <td>50</td>\n",
       "      <td>4.0</td>\n",
       "    </tr>\n",
       "  </tbody>\n",
       "</table>\n",
       "<p>375 rows × 7 columns</p>\n",
       "</div>"
      ],
      "text/plain": [
       "          date        team_1                team_2 odd_1 odd_2  week  split\n",
       "2   2017-01-20        Cloud9          Team Solomid  2.18  1.61     1    1.0\n",
       "1   2017-01-21      Phoenix1              Echo Fox  1.40  2.73     1    1.0\n",
       "96  2017-01-21     Immortals              Echo Fox  1.24  3.64     1    1.0\n",
       "17  2017-01-21   Team Liquid  Counter Logic Gaming  2.06  1.68     1    1.0\n",
       "245 2017-01-22  Team Solomid             Immortals  1.46  2.54     1    1.0\n",
       "..         ...           ...                   ...   ...   ...   ...    ...\n",
       "2   2018-09-08  Team Solomid           100 Thieves  1.46  2.55    49    4.0\n",
       "215 2018-09-09   Team Liquid                Cloud9  1.61  2.14    49    4.0\n",
       "12  2018-09-14      Echo Fox         Clutch Gaming  1.28  3.38    50    4.0\n",
       "13  2018-09-15  Team Solomid              Echo Fox  1.60  2.17    50    4.0\n",
       "14  2018-09-16        Cloud9          Team Solomid  1.89  1.86    50    4.0\n",
       "\n",
       "[375 rows x 7 columns]"
      ]
     },
     "execution_count": 487,
     "metadata": {},
     "output_type": "execute_result"
    }
   ],
   "source": [
    "na_bets"
   ]
  },
  {
   "cell_type": "code",
   "execution_count": 482,
   "metadata": {
    "ExecuteTime": {
     "end_time": "2020-06-26T22:02:48.674583Z",
     "start_time": "2020-06-26T22:02:47.023657Z"
    }
   },
   "outputs": [],
   "source": [
    "dollars_glicko = [0]\n",
    "wins_glicko = []\n",
    "losses_glicko = []\n",
    "precision_glicko = []\n",
    "best_tau = 0\n",
    "best_phi = 0\n",
    "tau = 1\n",
    "ddt_g2= []\n",
    "wr_dt_g2= []\n",
    "for phi in np.arange(150,560,10):\n",
    "    na_teams_glicko = train_glicko(start_na_teams, 5.5, na_bets, phi)\n",
    "    dollars, wins, losses, ddt_g2, wr_dt_g2 = glicko_betting(na_teams_glicko, 5.5, na_bets,phi, 0.75)\n",
    "    dollars_glicko.append(dollars)\n",
    "    if dollars > max(dollars_glicko[:-1]):\n",
    "        best_tau = tau\n",
    "        best_phi = phi\n",
    "#         print(dollars)\n",
    "    wins_glicko.append(wins)\n",
    "    losses_glicko.append(losses)\n",
    "    precision_glicko.append(wins/(losses + wins))\n",
    "\n",
    "    "
   ]
  },
  {
   "cell_type": "code",
   "execution_count": 483,
   "metadata": {
    "ExecuteTime": {
     "end_time": "2020-06-26T22:02:48.888495Z",
     "start_time": "2020-06-26T22:02:48.687001Z"
    }
   },
   "outputs": [],
   "source": [
    "na_teams_glicko = train_glicko(start_na_teams, 20, na_bets[na_bets.split.isin([1])],  best_phi)\n",
    "dollars, wins, losses,ddt_g2_graph, wr_dt_g2_graph = glicko_eval(na_teams_glicko, na_bets[na_bets.split.isin([2,3,4])], best_phi, 0.75)\n",
    "\n"
   ]
  },
  {
   "cell_type": "code",
   "execution_count": 484,
   "metadata": {
    "ExecuteTime": {
     "end_time": "2020-06-26T22:02:48.919059Z",
     "start_time": "2020-06-26T22:02:48.892367Z"
    }
   },
   "outputs": [],
   "source": [
    "q = pd.DataFrame.from_dict(na_teams_glicko, orient = 'index')\n",
    "q[0] = [v.mu for v in  na_teams_glicko.values()]\n",
    "q.to_clipboard()\n",
    "# q"
   ]
  },
  {
   "cell_type": "code",
   "execution_count": 485,
   "metadata": {
    "ExecuteTime": {
     "end_time": "2020-06-26T22:02:49.542245Z",
     "start_time": "2020-06-26T22:02:48.931561Z"
    },
    "scrolled": true
   },
   "outputs": [
    {
     "data": {
      "text/plain": [
       "[]"
      ]
     },
     "execution_count": 485,
     "metadata": {},
     "output_type": "execute_result"
    },
    {
     "data": {
      "image/png": "[encoded data removed]",
      "text/plain": [
       "<Figure size 432x288 with 1 Axes>"
      ]
     },
     "metadata": {
      "needs_background": "light"
     },
     "output_type": "display_data"
    }
   ],
   "source": [
    "plt.plot(ddt_g2_graph)\n",
    "plt.xlabel('Number of games after calibration')\n",
    "plt.ylabel('Dollars')\n",
    "plt.title('Glicko2 dollars amount over time (phi = {})'.format(best_phi))\n",
    "plt.plot()"
   ]
  },
  {
   "cell_type": "code",
   "execution_count": 465,
   "metadata": {
    "ExecuteTime": {
     "end_time": "2020-06-26T00:05:47.069072Z",
     "start_time": "2020-06-26T00:05:46.306435Z"
    }
   },
   "outputs": [
    {
     "data": {
      "text/plain": [
       "[]"
      ]
     },
     "execution_count": 465,
     "metadata": {},
     "output_type": "execute_result"
    },
    {
     "data": {
      "image/png": "[encoded data removed]",
      "text/plain": [
       "<Figure size 432x288 with 1 Axes>"
      ]
     },
     "metadata": {
      "needs_background": "light"
     },
     "output_type": "display_data"
    }
   ],
   "source": [
    "plt.plot(wr_dt_g2)\n",
    "plt.xlabel('Number of games after calibration')\n",
    "plt.ylabel('Dollars')\n",
    "plt.title('Glicko2 win rate over time  (phi = {})'.format(best_phi))\n",
    "plt.plot()"
   ]
  },
  {
   "cell_type": "code",
   "execution_count": 472,
   "metadata": {
    "ExecuteTime": {
     "end_time": "2020-06-26T22:00:45.456304Z",
     "start_time": "2020-06-26T22:00:45.438817Z"
    }
   },
   "outputs": [
    {
     "data": {
      "text/plain": [
       "(165, 124, 0.5709342560553633, 499.75)"
      ]
     },
     "execution_count": 472,
     "metadata": {},
     "output_type": "execute_result"
    }
   ],
   "source": [
    "(wins,losses,wins/(wins+losses), dollars)"
   ]
  },
  {
   "cell_type": "code",
   "execution_count": null,
   "metadata": {},
   "outputs": [],
   "source": []
  },
  {
   "cell_type": "code",
   "execution_count": 467,
   "metadata": {
    "ExecuteTime": {
     "end_time": "2020-06-26T00:05:51.550190Z",
     "start_time": "2020-06-26T00:05:51.210425Z"
    }
   },
   "outputs": [
    {
     "data": {
      "image/png": "[encoded data removed]",
      "text/plain": [
       "<Figure size 432x288 with 1 Axes>"
      ]
     },
     "metadata": {
      "needs_background": "light"
     },
     "output_type": "display_data"
    }
   ],
   "source": [
    "# plt.figure(figsize = (16,12))\n",
    "plt.plot(ddt_elo_graph)\n",
    "plt.plot(ddt_g2_graph)\n",
    "plt.plot(ddt_ts_graph)\n",
    "plt.legend(['ELO','Glicko2','TrueSkill'])\n",
    "plt.xlabel('Number of games after calibration')\n",
    "plt.ylabel('Dollars amount')\n",
    "plt.show()"
   ]
  },
  {
   "cell_type": "code",
   "execution_count": 468,
   "metadata": {
    "ExecuteTime": {
     "end_time": "2020-06-26T00:06:01.593784Z",
     "start_time": "2020-06-26T00:06:01.250897Z"
    }
   },
   "outputs": [
    {
     "data": {
      "image/png": "[encoded data removed]",
      "text/plain": [
       "<Figure size 432x288 with 1 Axes>"
      ]
     },
     "metadata": {
      "needs_background": "light"
     },
     "output_type": "display_data"
    }
   ],
   "source": [
    "# plt.figure(figsize = (16,12))\n",
    "plt.plot(wr_dt_elo_graph)\n",
    "plt.plot(wr_dt_g2_graph)\n",
    "plt.plot(wr_dt_ts_graph)\n",
    "plt.legend(['ELO','Glicko2','TrueSkill'])\n",
    "# plt.title('Accuracy over time')\n",
    "plt.xlabel('Number of games after calibration')\n",
    "plt.ylabel('Accuracy')\n",
    "plt.show()"
   ]
  },
  {
   "cell_type": "markdown",
   "metadata": {},
   "source": [
    "# END OF MAIN PART"
   ]
  },
  {
   "cell_type": "code",
   "execution_count": null,
   "metadata": {
    "ExecuteTime": {
     "end_time": "2020-06-24T22:04:01.745494Z",
     "start_time": "2020-06-24T22:04:01.726933Z"
    }
   },
   "outputs": [],
   "source": [
    "eu_bets['teams'] = (eu_bets['team_1'] + '~' + eu_bets['team_2']).str.split('~').apply(set).apply(sorted)\n",
    "eu_bets['teams'] = eu_bets['teams'].apply(' '.join)"
   ]
  },
  {
   "cell_type": "code",
   "execution_count": null,
   "metadata": {
    "ExecuteTime": {
     "end_time": "2020-06-24T22:04:41.996284Z",
     "start_time": "2020-06-24T22:04:41.978669Z"
    }
   },
   "outputs": [],
   "source": [
    "eu_bets['prev_winner'] = eu_bets[['team_1','teams']].groupby('teams').shift()"
   ]
  },
  {
   "cell_type": "code",
   "execution_count": null,
   "metadata": {
    "ExecuteTime": {
     "end_time": "2020-06-25T01:14:19.942382Z",
     "start_time": "2020-06-25T01:14:19.873308Z"
    }
   },
   "outputs": [],
   "source": [
    "eu_bets [eu_bets['odd_1'] != '-']"
   ]
  },
  {
   "cell_type": "code",
   "execution_count": null,
   "metadata": {
    "ExecuteTime": {
     "end_time": "2020-06-25T01:17:36.067489Z",
     "start_time": "2020-06-25T01:17:36.021766Z"
    }
   },
   "outputs": [],
   "source": [
    "(eu_bets [(eu_bets['odd_1'] != '-') & (eu_bets['split'] >= '1.0')]['odd_1']<eu_bets [eu_bets['odd_1'] != '-']['odd_2']).value_counts()\n"
   ]
  },
  {
   "cell_type": "code",
   "execution_count": null,
   "metadata": {
    "ExecuteTime": {
     "end_time": "2020-06-25T01:19:27.930461Z",
     "start_time": "2020-06-25T01:19:27.914230Z"
    }
   },
   "outputs": [],
   "source": [
    "(eu_bets[(eu_bets['split'] != 1 ) & (eu_bets['odd_1'] != '-' )]['odd_1'] > eu_bets[(eu_bets['split'] != 1 ) & (eu_bets['odd_1'] != '-' )]['odd_2']).value_counts()\n"
   ]
  },
  {
   "cell_type": "code",
   "execution_count": null,
   "metadata": {
    "ExecuteTime": {
     "end_time": "2020-06-25T01:19:39.199830Z",
     "start_time": "2020-06-25T01:19:39.189293Z"
    }
   },
   "outputs": [],
   "source": [
    "164/(164+81)"
   ]
  },
  {
   "cell_type": "code",
   "execution_count": null,
   "metadata": {
    "ExecuteTime": {
     "end_time": "2020-06-25T01:17:07.200463Z",
     "start_time": "2020-06-25T01:17:07.192397Z"
    }
   },
   "outputs": [],
   "source": [
    "eu_bets['split']"
   ]
  },
  {
   "cell_type": "code",
   "execution_count": null,
   "metadata": {},
   "outputs": [],
   "source": []
  },
  {
   "cell_type": "code",
   "execution_count": null,
   "metadata": {
    "ExecuteTime": {
     "end_time": "2020-06-24T22:10:01.287853Z",
     "start_time": "2020-06-24T22:10:01.278672Z"
    }
   },
   "outputs": [],
   "source": [
    "eloLeague.ratingDict['Splyce']"
   ]
  },
  {
   "cell_type": "code",
   "execution_count": null,
   "metadata": {
    "ExecuteTime": {
     "end_time": "2020-06-24T22:08:58.519964Z",
     "start_time": "2020-06-24T22:08:58.512200Z"
    }
   },
   "outputs": [],
   "source": [
    "eloLeague.expectResult(1555,1785)"
   ]
  },
  {
   "cell_type": "code",
   "execution_count": null,
   "metadata": {
    "ExecuteTime": {
     "end_time": "2020-06-24T22:10:36.504900Z",
     "start_time": "2020-06-24T22:10:36.493669Z"
    }
   },
   "outputs": [],
   "source": [
    "eloLeague.ratingDict"
   ]
  },
  {
   "cell_type": "code",
   "execution_count": null,
   "metadata": {
    "ExecuteTime": {
     "end_time": "2020-06-24T22:21:05.710159Z",
     "start_time": "2020-06-24T22:21:05.691596Z"
    }
   },
   "outputs": [],
   "source": [
    "def train_elo_new(teams, num_weeks, data, k):\n",
    "    eloLeague = elo.Elo(k = k, homefield=0)\n",
    "    for team in teams:\n",
    "        eloLeague.addPlayer(team)\n",
    "    \n",
    "    train = data[data['week'].isin(np.arange(1,num_weeks+1))]\n",
    "    for i, row in train.iterrows():\n",
    "        prev_winner = row['prev_winner']\n",
    "        team1 = row['team_1']\n",
    "        team2 = row['team_2']\n",
    "        if team1 not in eloLeague.ratingDict.keys():\n",
    "            eloLeague.addPlayer(team1)\n",
    "            eloLeague.ratingDict[team1] = np.mean(list(eloLeague.ratingDict.values()))\n",
    "\n",
    "        if team2 not in eloLeague.ratingDict.keys():\n",
    "            eloLeague.addPlayer(team2)\n",
    "            eloLeague.ratingDict[team2] = np.mean(list(eloLeague.ratingDict.values()))\n",
    "        \n",
    "\n",
    "        \n",
    "        eloLeague.gameOver(winner = row['team_1'], loser = row['team_2'],winnerHome=0)\n",
    "    return eloLeague"
   ]
  },
  {
   "cell_type": "code",
   "execution_count": null,
   "metadata": {
    "ExecuteTime": {
     "end_time": "2020-06-24T22:25:19.765335Z",
     "start_time": "2020-06-24T22:25:19.744450Z"
    }
   },
   "outputs": [],
   "source": [
    "def elo_betting_new(eloLeague,num_weeks ,data, const):\n",
    "    dollars = 100\n",
    "    wins = 0\n",
    "    losses = 0\n",
    "    ddt = []\n",
    "    wr_dt = []\n",
    "    test = data[data['week'].isin(np.arange(num_weeks,2*num_weeks+1))]\n",
    "    for i, row in test.iterrows():\n",
    "        prev_winner = row['prev_winner']\n",
    "        team1 = row['team_1']\n",
    "        team2 = row['team_2']\n",
    "\n",
    "        if team1 not in eloLeague.ratingDict.keys():\n",
    "            eloLeague.addPlayer(team1)\n",
    "            eloLeague.ratingDict[team1] = np.mean(list(eloLeague.ratingDict.values()))\n",
    "\n",
    "        if team2 not in eloLeague.ratingDict.keys():\n",
    "            eloLeague.addPlayer(team2)\n",
    "            eloLeague.ratingDict[team2] = np.mean(list(eloLeague.ratingDict.values()))\n",
    "\n",
    "        \n",
    "        try :\n",
    "            bet = float(row['odd_1'])\n",
    "        except:\n",
    "            bet = -1\n",
    "\n",
    "            \n",
    "        if prev_winner == team1:\n",
    "            if eloLeague.expectResult(eloLeague.ratingDict[team1],eloLeague.ratingDict[team2]*const)>0.5:\n",
    "                winner = team1\n",
    "            else: winner = team2\n",
    "        elif prev_winner == team2:\n",
    "            if eloLeague.expectResult(eloLeague.ratingDict[team1]*const,eloLeague.ratingDict[team2])>0.5:\n",
    "                winner = team1\n",
    "            else: winner = team2\n",
    "        else:            \n",
    "            if eloLeague.expectResult(eloLeague.ratingDict[team1],eloLeague.ratingDict[team2]) >= 0.5:\n",
    "                winner = team1\n",
    "            else:\n",
    "                winner = team2\n",
    "        \n",
    "        if bet>0:        \n",
    "            if winner == team1:\n",
    "                dollars += 5*bet\n",
    "                wins +=1\n",
    "            else:\n",
    "                dollars -= 5\n",
    "                losses +=1\n",
    "        else:\n",
    "            if winner == team1:\n",
    "                wins+=1\n",
    "            else:\n",
    "                losses += 1\n",
    "        ddt.append(dollars)\n",
    "        wr_dt.append(wins/(wins+losses))\n",
    "        eloLeague.gameOver(winner = row['team_1'], loser = row['team_2'],winnerHome=0)\n",
    "    return dollars,wins,losses,ddt,wr_dt"
   ]
  },
  {
   "cell_type": "code",
   "execution_count": null,
   "metadata": {
    "ExecuteTime": {
     "end_time": "2020-06-24T23:15:12.893397Z",
     "start_time": "2020-06-24T23:15:12.873653Z"
    }
   },
   "outputs": [],
   "source": [
    "def elo_eval_new(eloLeague ,data, const):\n",
    "    dollars = 100\n",
    "    wins = 0\n",
    "    losses = 0\n",
    "    ddt = []\n",
    "    wr_dt = []\n",
    "    q = []\n",
    "    test = data[data['week'].isin(np.arange(0,100))]\n",
    "    for i, row in test.iterrows():\n",
    "        prev_winner = row['prev_winner']\n",
    "        team1 = row['team_1']\n",
    "        team2 = row['team_2']\n",
    "\n",
    "        if team1 not in eloLeague.ratingDict.keys():\n",
    "            eloLeague.addPlayer(team1)\n",
    "            eloLeague.ratingDict[team1] = np.mean(list(eloLeague.ratingDict.values()))\n",
    "\n",
    "        if team2 not in eloLeague.ratingDict.keys():\n",
    "            eloLeague.addPlayer(team2)\n",
    "            eloLeague.ratingDict[team2] = np.mean(list(eloLeague.ratingDict.values()))\n",
    "\n",
    "        \n",
    "        try :\n",
    "            bet = float(row['odd_1'])\n",
    "        except:\n",
    "            bet = -1\n",
    "        \n",
    "        if prev_winner == team1:\n",
    "            if eloLeague.expectResult(eloLeague.ratingDict[team1],eloLeague.ratingDict[team2]*const)>0.5:\n",
    "                winner = team1\n",
    "            else: winner = team2\n",
    "        elif prev_winner == team2:\n",
    "            if eloLeague.expectResult(eloLeague.ratingDict[team1]*const,eloLeague.ratingDict[team2])>0.5:\n",
    "                winner = team1\n",
    "            else: winner = team2\n",
    "        else:            \n",
    "            if eloLeague.expectResult(eloLeague.ratingDict[team1],eloLeague.ratingDict[team2]) >= 0.5:\n",
    "                winner = team1\n",
    "            else:\n",
    "                winner = team2\n",
    "        \n",
    "        if bet>0:        \n",
    "            if winner == team1:\n",
    "                dollars += 5*bet\n",
    "                wins +=1\n",
    "            else:\n",
    "                print(i)\n",
    "                q.append(i)\n",
    "                dollars -= 5\n",
    "                losses +=1\n",
    "        else:\n",
    "            if winner == team1:\n",
    "                wins+=1\n",
    "            else:\n",
    "                losses += 1\n",
    "        ddt.append(dollars)\n",
    "        wr_dt.append(wins/(wins+losses))\n",
    "        eloLeague.gameOver(winner = row['team_1'], loser = row['team_2'],winnerHome=0)\n",
    "    return dollars,wins,losses,ddt,wr_dt,q"
   ]
  },
  {
   "cell_type": "code",
   "execution_count": null,
   "metadata": {
    "ExecuteTime": {
     "end_time": "2020-06-24T23:17:11.472421Z",
     "start_time": "2020-06-24T23:17:11.463517Z"
    }
   },
   "outputs": [],
   "source": [
    "eu2 = eu_bets.reset_index(drop = True)"
   ]
  },
  {
   "cell_type": "code",
   "execution_count": null,
   "metadata": {
    "ExecuteTime": {
     "end_time": "2020-06-24T23:17:18.206061Z",
     "start_time": "2020-06-24T23:17:17.699742Z"
    }
   },
   "outputs": [],
   "source": [
    "dollars_elo = [0]\n",
    "wins_elo = []\n",
    "losses_elo = []\n",
    "precision = []\n",
    "best_k_elo = 0\n",
    "best_games_elo = 0\n",
    "\n",
    "\n",
    "for k in range(66, 67):\n",
    "    for const in np.arange(0.9,1.1,0.01):\n",
    "        eloLeague = train_elo_new(start_eu_teams,5.5, eu2, k)\n",
    "        dollars, wins, losses, ddt_elo,wr_dt_elo = elo_betting_new(eloLeague, 5.5, eu2, const = 1)\n",
    "        dollars_elo.append(dollars)\n",
    "        wins_elo.append(wins)\n",
    "        losses_elo.append(losses)\n",
    "        if dollars > max(dollars_elo[:-1]):\n",
    "            best_k_elo = k\n",
    "            best_const = const\n",
    "        precision.append(wins/(losses + wins))"
   ]
  },
  {
   "cell_type": "code",
   "execution_count": null,
   "metadata": {
    "ExecuteTime": {
     "end_time": "2020-06-24T23:17:19.800444Z",
     "start_time": "2020-06-24T23:17:19.787478Z"
    }
   },
   "outputs": [],
   "source": [
    "best_const"
   ]
  },
  {
   "cell_type": "code",
   "execution_count": null,
   "metadata": {
    "ExecuteTime": {
     "end_time": "2020-06-24T23:17:54.055951Z",
     "start_time": "2020-06-24T23:17:53.901418Z"
    }
   },
   "outputs": [],
   "source": [
    "eloLeague = train_elo_new(start_eu_teams, 20, eu2[eu2.split.isin([1])], 66)\n",
    "dollars, wins, losses, ddt_elo,wr_dt_elo,q = elo_eval_new(eloLeague, eu2[eu2.split.isin([2,3,4])], const = 1)\n",
    "\n",
    "\n"
   ]
  },
  {
   "cell_type": "code",
   "execution_count": null,
   "metadata": {
    "ExecuteTime": {
     "end_time": "2020-06-24T23:19:07.325094Z",
     "start_time": "2020-06-24T23:19:07.296251Z"
    }
   },
   "outputs": [],
   "source": [
    "eu2.loc[q]"
   ]
  },
  {
   "cell_type": "code",
   "execution_count": null,
   "metadata": {
    "ExecuteTime": {
     "end_time": "2020-06-24T23:17:58.282122Z",
     "start_time": "2020-06-24T23:17:58.273270Z"
    }
   },
   "outputs": [],
   "source": [
    "dollars, wins, losses"
   ]
  },
  {
   "cell_type": "code",
   "execution_count": null,
   "metadata": {
    "ExecuteTime": {
     "end_time": "2020-06-24T23:18:00.065073Z",
     "start_time": "2020-06-24T23:17:59.717312Z"
    }
   },
   "outputs": [],
   "source": [
    "plt.plot(ddt_elo)"
   ]
  },
  {
   "cell_type": "code",
   "execution_count": null,
   "metadata": {
    "ExecuteTime": {
     "end_time": "2020-06-24T23:18:04.416835Z",
     "start_time": "2020-06-24T23:18:04.046130Z"
    }
   },
   "outputs": [],
   "source": [
    "plt.plot(wr_dt_elo)"
   ]
  },
  {
   "cell_type": "code",
   "execution_count": null,
   "metadata": {},
   "outputs": [],
   "source": []
  },
  {
   "cell_type": "code",
   "execution_count": null,
   "metadata": {},
   "outputs": [],
   "source": []
  },
  {
   "cell_type": "code",
   "execution_count": null,
   "metadata": {},
   "outputs": [],
   "source": []
  },
  {
   "cell_type": "code",
   "execution_count": null,
   "metadata": {},
   "outputs": [],
   "source": []
  },
  {
   "cell_type": "code",
   "execution_count": null,
   "metadata": {},
   "outputs": [],
   "source": []
  },
  {
   "cell_type": "code",
   "execution_count": null,
   "metadata": {},
   "outputs": [],
   "source": []
  },
  {
   "cell_type": "code",
   "execution_count": null,
   "metadata": {},
   "outputs": [],
   "source": []
  },
  {
   "cell_type": "code",
   "execution_count": null,
   "metadata": {},
   "outputs": [],
   "source": []
  },
  {
   "cell_type": "code",
   "execution_count": null,
   "metadata": {},
   "outputs": [],
   "source": []
  },
  {
   "cell_type": "code",
   "execution_count": null,
   "metadata": {},
   "outputs": [],
   "source": []
  },
  {
   "cell_type": "code",
   "execution_count": null,
   "metadata": {},
   "outputs": [],
   "source": []
  },
  {
   "cell_type": "code",
   "execution_count": null,
   "metadata": {},
   "outputs": [],
   "source": []
  },
  {
   "cell_type": "code",
   "execution_count": null,
   "metadata": {},
   "outputs": [],
   "source": []
  },
  {
   "cell_type": "code",
   "execution_count": null,
   "metadata": {
    "ExecuteTime": {
     "end_time": "2020-05-31T18:28:38.821808Z",
     "start_time": "2020-05-31T18:28:10.850087Z"
    }
   },
   "outputs": [],
   "source": [
    "data_2016 = pd.read_excel('lol_2016.xlsx')"
   ]
  },
  {
   "cell_type": "code",
   "execution_count": null,
   "metadata": {
    "ExecuteTime": {
     "end_time": "2020-05-30T21:22:44.370912Z",
     "start_time": "2020-05-30T21:22:44.333424Z"
    }
   },
   "outputs": [],
   "source": [
    "data_2017[['league','team']].groupby('league')['team'].unique().to_clipboard()"
   ]
  },
  {
   "cell_type": "code",
   "execution_count": null,
   "metadata": {
    "ExecuteTime": {
     "end_time": "2020-05-30T21:18:37.131191Z",
     "start_time": "2020-05-30T21:18:37.006546Z"
    }
   },
   "outputs": [],
   "source": [
    "data_2016.head()"
   ]
  },
  {
   "cell_type": "code",
   "execution_count": null,
   "metadata": {},
   "outputs": [],
   "source": []
  },
  {
   "cell_type": "code",
   "execution_count": null,
   "metadata": {},
   "outputs": [],
   "source": []
  },
  {
   "cell_type": "code",
   "execution_count": null,
   "metadata": {},
   "outputs": [],
   "source": []
  },
  {
   "cell_type": "code",
   "execution_count": null,
   "metadata": {},
   "outputs": [],
   "source": []
  },
  {
   "cell_type": "code",
   "execution_count": null,
   "metadata": {
    "ExecuteTime": {
     "end_time": "2020-05-31T18:28:38.849189Z",
     "start_time": "2020-05-31T18:28:38.827849Z"
    }
   },
   "outputs": [],
   "source": [
    "data = data_2016.copy()"
   ]
  },
  {
   "cell_type": "code",
   "execution_count": null,
   "metadata": {
    "ExecuteTime": {
     "end_time": "2020-05-31T18:28:38.869330Z",
     "start_time": "2020-05-31T18:28:38.851665Z"
    }
   },
   "outputs": [],
   "source": [
    "games = data[['gameid','league','week','game','side','team','result']]"
   ]
  },
  {
   "cell_type": "code",
   "execution_count": null,
   "metadata": {
    "ExecuteTime": {
     "end_time": "2020-05-31T18:28:38.897664Z",
     "start_time": "2020-05-31T18:28:38.874748Z"
    }
   },
   "outputs": [],
   "source": [
    "games = games.drop_duplicates()"
   ]
  },
  {
   "cell_type": "code",
   "execution_count": null,
   "metadata": {
    "ExecuteTime": {
     "end_time": "2020-05-31T18:28:38.915611Z",
     "start_time": "2020-05-31T18:28:38.906942Z"
    }
   },
   "outputs": [],
   "source": [
    "games.reset_index(drop = True, inplace = True)"
   ]
  },
  {
   "cell_type": "code",
   "execution_count": null,
   "metadata": {
    "ExecuteTime": {
     "end_time": "2020-05-31T18:28:38.961843Z",
     "start_time": "2020-05-31T18:28:38.929716Z"
    }
   },
   "outputs": [],
   "source": [
    "games = games.merge(games, on = ['gameid','league'], suffixes = ['_1','_2'])"
   ]
  },
  {
   "cell_type": "code",
   "execution_count": null,
   "metadata": {
    "ExecuteTime": {
     "end_time": "2020-05-31T18:28:38.983968Z",
     "start_time": "2020-05-31T18:28:38.965423Z"
    }
   },
   "outputs": [],
   "source": [
    "games = games[(games['result_1']==1)&(games['team_1']!=games['team_2'])]"
   ]
  },
  {
   "cell_type": "code",
   "execution_count": null,
   "metadata": {
    "ExecuteTime": {
     "end_time": "2020-05-31T18:28:39.003658Z",
     "start_time": "2020-05-31T18:28:38.986447Z"
    }
   },
   "outputs": [],
   "source": [
    "games = games.reset_index(drop = True)"
   ]
  },
  {
   "cell_type": "code",
   "execution_count": null,
   "metadata": {
    "ExecuteTime": {
     "end_time": "2020-05-31T18:28:39.020925Z",
     "start_time": "2020-05-31T18:28:39.007503Z"
    }
   },
   "outputs": [],
   "source": [
    "eu = games[games['league'] == 'EULCS']"
   ]
  },
  {
   "cell_type": "code",
   "execution_count": null,
   "metadata": {
    "ExecuteTime": {
     "end_time": "2020-05-31T18:28:39.045633Z",
     "start_time": "2020-05-31T18:28:39.026886Z"
    }
   },
   "outputs": [],
   "source": [
    "eu['team_1'].replace('Elements', 'Schalke 04', inplace = True)\n",
    "eu['team_2'].replace('Elements', 'Schalke 04', inplace = True)"
   ]
  },
  {
   "cell_type": "code",
   "execution_count": null,
   "metadata": {
    "ExecuteTime": {
     "end_time": "2020-05-31T18:28:39.072605Z",
     "start_time": "2020-05-31T18:28:39.053043Z"
    }
   },
   "outputs": [],
   "source": [
    "eu_to_fit = eu[eu['week_1'].isin([1,2,3])]"
   ]
  },
  {
   "cell_type": "code",
   "execution_count": null,
   "metadata": {},
   "outputs": [],
   "source": []
  },
  {
   "cell_type": "code",
   "execution_count": null,
   "metadata": {},
   "outputs": [],
   "source": []
  },
  {
   "cell_type": "code",
   "execution_count": null,
   "metadata": {},
   "outputs": [],
   "source": []
  },
  {
   "cell_type": "code",
   "execution_count": null,
   "metadata": {
    "ExecuteTime": {
     "end_time": "2020-06-06T21:12:56.813039Z",
     "start_time": "2020-06-06T21:12:56.764657Z"
    }
   },
   "outputs": [],
   "source": [
    "games = pd.read_excel('lol_bets.xlsx')"
   ]
  },
  {
   "cell_type": "code",
   "execution_count": null,
   "metadata": {
    "ExecuteTime": {
     "end_time": "2020-06-06T21:13:14.091757Z",
     "start_time": "2020-06-06T21:13:14.066038Z"
    }
   },
   "outputs": [],
   "source": [
    "eu_teams = list(data_2017[data_2017['league'] == 'EULCS']['team'].unique())\n",
    "na_teams = list(data_2017[data_2017['league'] == 'NALCS']['team'].unique())"
   ]
  },
  {
   "cell_type": "code",
   "execution_count": null,
   "metadata": {
    "ExecuteTime": {
     "end_time": "2020-06-06T21:13:14.266452Z",
     "start_time": "2020-06-06T21:13:14.259150Z"
    }
   },
   "outputs": [],
   "source": [
    "eu_teams = eu_teams + ['H2k-Gaming','Giants Gaming']"
   ]
  },
  {
   "cell_type": "code",
   "execution_count": null,
   "metadata": {
    "ExecuteTime": {
     "end_time": "2020-06-06T21:13:15.205747Z",
     "start_time": "2020-06-06T21:13:15.194992Z"
    }
   },
   "outputs": [],
   "source": [
    "eu = games[games['team_1'].isin(eu_teams)]\n",
    "na = games[games['team_1'].isin(na_teams)]"
   ]
  },
  {
   "cell_type": "code",
   "execution_count": null,
   "metadata": {
    "ExecuteTime": {
     "end_time": "2020-06-06T21:14:19.933046Z",
     "start_time": "2020-06-06T21:14:19.925268Z"
    }
   },
   "outputs": [],
   "source": [
    "from matplotlib import pyplot as plt"
   ]
  },
  {
   "cell_type": "code",
   "execution_count": null,
   "metadata": {
    "ExecuteTime": {
     "end_time": "2020-06-06T21:33:04.375674Z",
     "start_time": "2020-06-06T21:33:04.303291Z"
    }
   },
   "outputs": [],
   "source": [
    "data_2017[data_2017['league'] == 'EULCS'][['team','date']].drop_duplicates()"
   ]
  },
  {
   "cell_type": "code",
   "execution_count": null,
   "metadata": {
    "ExecuteTime": {
     "end_time": "2020-06-06T21:30:22.745397Z",
     "start_time": "2020-06-06T21:30:22.714235Z"
    }
   },
   "outputs": [],
   "source": [
    "(eu.sort_values('date').groupby('date').count()).tail(40)"
   ]
  },
  {
   "cell_type": "code",
   "execution_count": null,
   "metadata": {
    "ExecuteTime": {
     "end_time": "2020-06-06T21:11:16.724585Z",
     "start_time": "2020-06-06T21:11:16.714496Z"
    }
   },
   "outputs": [],
   "source": []
  },
  {
   "cell_type": "code",
   "execution_count": null,
   "metadata": {
    "ExecuteTime": {
     "end_time": "2020-06-06T21:10:44.711159Z",
     "start_time": "2020-06-06T21:10:44.682767Z"
    }
   },
   "outputs": [],
   "source": [
    "games.sort_values('date')"
   ]
  },
  {
   "cell_type": "code",
   "execution_count": null,
   "metadata": {},
   "outputs": [],
   "source": []
  },
  {
   "cell_type": "code",
   "execution_count": null,
   "metadata": {},
   "outputs": [],
   "source": []
  },
  {
   "cell_type": "markdown",
   "metadata": {},
   "source": [
    "# ELO"
   ]
  },
  {
   "cell_type": "code",
   "execution_count": null,
   "metadata": {
    "ExecuteTime": {
     "end_time": "2020-06-02T22:57:15.630560Z",
     "start_time": "2020-06-02T22:57:15.617479Z"
    }
   },
   "outputs": [],
   "source": [
    "from elosports import elo\n",
    "eloLeague = elo.Elo(k = 20, homefield=0)"
   ]
  },
  {
   "cell_type": "code",
   "execution_count": null,
   "metadata": {
    "ExecuteTime": {
     "end_time": "2020-05-31T19:00:19.210879Z",
     "start_time": "2020-05-31T19:00:19.194867Z"
    }
   },
   "outputs": [],
   "source": [
    "# eu = games[games['league'] == 'EULCS']\n",
    "# eu['team_1'].replace('Elements', 'Schalke 04', inplace = True)\n",
    "# eu['team_2'].replace('Elements', 'Schalke 04', inplace = True)"
   ]
  },
  {
   "cell_type": "code",
   "execution_count": null,
   "metadata": {
    "ExecuteTime": {
     "end_time": "2020-06-24T16:22:06.593547Z",
     "start_time": "2020-06-24T16:22:06.568284Z"
    }
   },
   "outputs": [],
   "source": [
    "def train_elo(teams, num_games, data, k):\n",
    "    eloLeague = elo.Elo(k = k, homefield=0)\n",
    "    for team in teams:\n",
    "        eloLeague.addPlayer(team)\n",
    "    \n",
    "    train = data[data['week_1'].isin(np.arange(1,num_games+1))]\n",
    "    for i, row in train.iterrows():\n",
    "        team1 = row['team_1']\n",
    "        team2 = row['team_2']\n",
    "        if team1 not in eloLeague.ratingDict.keys():\n",
    "            eloLeague.addPlayer(team1)\n",
    "            eloLeague.ratingDict[team1] = np.median(list(eloLeague.ratingDict.values()))\n",
    "\n",
    "        if team2 not in eloLeague.ratingDict.keys():\n",
    "            eloLeague.addPlayer(team2)\n",
    "            eloLeague.ratingDict[team2] = np.median(list(eloLeague.ratingDict.values()))\n",
    "    \n",
    "        eloLeague.gameOver(winner = row['team_1'], loser = row['team_2'],winnerHome=0)\n",
    "    return eloLeague"
   ]
  },
  {
   "cell_type": "code",
   "execution_count": null,
   "metadata": {
    "ExecuteTime": {
     "end_time": "2020-05-31T21:11:35.802251Z",
     "start_time": "2020-05-31T21:11:35.766779Z"
    }
   },
   "outputs": [],
   "source": [
    "for i, row in eu_to_fit.iterrows():\n",
    "    team1 = row['team_1']\n",
    "    team2 = row['team_2']\n",
    "    if team1 not in eloLeague.ratingDict.keys():\n",
    "        eloLeague.addPlayer(team1)\n",
    "        eloLeague.ratingDict[team1] = np.mean(list(eloLeague.ratingDict.values()))\n",
    "        \n",
    "    if team2 not in eloLeague.ratingDict.keys():\n",
    "        eloLeague.addPlayer(team2)\n",
    "        eloLeague.ratingDict[team2] = np.mean(list(eloLeague.ratingDict.values()))\n",
    "    \n",
    "    eloLeague.gameOver(winner = row['team_1'], loser = row['team_2'],winnerHome=0)"
   ]
  },
  {
   "cell_type": "code",
   "execution_count": null,
   "metadata": {
    "ExecuteTime": {
     "end_time": "2020-05-31T18:28:39.217385Z",
     "start_time": "2020-05-31T18:28:39.207799Z"
    }
   },
   "outputs": [],
   "source": [
    "eu_to_test = eu[~eu['week_1'].isin([1,2,3])]"
   ]
  },
  {
   "cell_type": "code",
   "execution_count": null,
   "metadata": {
    "ExecuteTime": {
     "end_time": "2020-06-02T22:55:18.039842Z",
     "start_time": "2020-06-02T22:55:18.026408Z"
    }
   },
   "outputs": [],
   "source": [
    "def elo_betting(eloLeague,num_games ,data):\n",
    "    dollars = 100\n",
    "    wins = 0\n",
    "    losses = 0\n",
    "    test = data[~data['week_1'].isin(np.arange(1,num_games+1))]\n",
    "    for i, row in test.iterrows():\n",
    "        team1 = row['team_1']\n",
    "        team2 = row['team_2']\n",
    "        if eloLeague.expectResult(eloLeague.ratingDict[team1],eloLeague.ratingDict[team2]) > 0.5:\n",
    "            winner = team1\n",
    "        else:\n",
    "            winner = team2\n",
    "        if winner == team1:\n",
    "            dollars += 5*1.05\n",
    "            wins +=1\n",
    "        else:\n",
    "            dollars -= 5\n",
    "            losses +=1\n",
    "        eloLeague.gameOver(winner = row['team_1'], loser = row['team_2'],winnerHome=0)\n",
    "    return dollars,wins,losses"
   ]
  },
  {
   "cell_type": "code",
   "execution_count": null,
   "metadata": {
    "ExecuteTime": {
     "end_time": "2020-05-31T19:02:42.818907Z",
     "start_time": "2020-05-31T19:02:42.702901Z"
    }
   },
   "outputs": [],
   "source": [
    "elo_betting(eloLeague, 5,eu)"
   ]
  },
  {
   "cell_type": "code",
   "execution_count": null,
   "metadata": {
    "ExecuteTime": {
     "end_time": "2020-05-31T18:28:39.307696Z",
     "start_time": "2020-05-31T18:28:39.228725Z"
    }
   },
   "outputs": [],
   "source": [
    "dollars = 100\n",
    "wins = 0\n",
    "losses = 0\n",
    "for i, row in eu_to_test.iterrows():\n",
    "    team1 = row['team_1']\n",
    "    team2 = row['team_2']\n",
    "    if eloLeague.expectResult(eloLeague.ratingDict[team1],eloLeague.ratingDict[team2]) > 0.5:\n",
    "        winner = team1\n",
    "    else:\n",
    "        winner = team2\n",
    "    if winner == team1:\n",
    "        dollars += 5*1.05\n",
    "        wins +=1\n",
    "    else:\n",
    "        dollars -= 5\n",
    "        losses +=1\n",
    "    eloLeague.gameOver(winner = row['team_1'], loser = row['team_2'],winnerHome=0)"
   ]
  },
  {
   "cell_type": "markdown",
   "metadata": {},
   "source": [
    "## Full ELO loop"
   ]
  },
  {
   "cell_type": "code",
   "execution_count": null,
   "metadata": {
    "ExecuteTime": {
     "end_time": "2020-06-02T22:57:20.530707Z",
     "start_time": "2020-06-02T22:57:20.409561Z"
    }
   },
   "outputs": [],
   "source": [
    "eloLeague = train_elo(eu_teams, 5, eu,3)\n",
    "elo_betting(eloLeague, 5, eu)"
   ]
  },
  {
   "cell_type": "markdown",
   "metadata": {},
   "source": [
    "## Elo experiments"
   ]
  },
  {
   "cell_type": "code",
   "execution_count": null,
   "metadata": {
    "ExecuteTime": {
     "end_time": "2020-06-01T21:23:50.418928Z",
     "start_time": "2020-06-01T21:23:50.399835Z"
    }
   },
   "outputs": [],
   "source": [
    "range(1,10)"
   ]
  },
  {
   "cell_type": "code",
   "execution_count": null,
   "metadata": {
    "ExecuteTime": {
     "end_time": "2020-06-01T21:35:29.275718Z",
     "start_time": "2020-06-01T21:34:30.968341Z"
    }
   },
   "outputs": [],
   "source": [
    "dollars_elo = []\n",
    "wins_elo = []\n",
    "losses_elo = []\n",
    "precision = []\n",
    "\n",
    "for k in range(1, 100):\n",
    "    for games in np.arange(1,10):\n",
    "        eloLeague = train_elo(eu_teams, games, eu,k)\n",
    "        dollars, wins, losses = elo_betting(eloLeague, games, eu)\n",
    "        dollars_elo.append(dollars)\n",
    "        wins_elo.append(wins)\n",
    "        losses_elo.append(losses)\n",
    "        if dollars == max(dollars_elo):\n",
    "            best_k = k\n",
    "            best_games = games\n",
    "        precision.append(wins/(losses + wins))"
   ]
  },
  {
   "cell_type": "code",
   "execution_count": null,
   "metadata": {
    "ExecuteTime": {
     "end_time": "2020-06-01T21:35:44.691513Z",
     "start_time": "2020-06-01T21:35:44.684261Z"
    }
   },
   "outputs": [],
   "source": [
    "best_k, best_games"
   ]
  },
  {
   "cell_type": "code",
   "execution_count": null,
   "metadata": {
    "ExecuteTime": {
     "end_time": "2020-06-01T21:32:31.079347Z",
     "start_time": "2020-06-01T21:32:30.976536Z"
    }
   },
   "outputs": [],
   "source": [
    "eloLeague = train_elo(eu_teams, 3, eu,11)\n",
    "print(elo_betting(eloLeague, games, eu))"
   ]
  },
  {
   "cell_type": "markdown",
   "metadata": {},
   "source": [
    "Best interations for precision: k = 11, games = 3\n",
    "Best interations for dollars: k = 11, games = 2"
   ]
  },
  {
   "cell_type": "code",
   "execution_count": null,
   "metadata": {
    "ExecuteTime": {
     "end_time": "2020-05-31T21:12:01.545273Z",
     "start_time": "2020-05-31T21:12:01.521627Z"
    }
   },
   "outputs": [],
   "source": [
    "from matplotlib import pyplot as plt"
   ]
  },
  {
   "cell_type": "code",
   "execution_count": null,
   "metadata": {
    "ExecuteTime": {
     "end_time": "2020-05-31T21:12:02.466631Z",
     "start_time": "2020-05-31T21:12:02.199306Z"
    }
   },
   "outputs": [],
   "source": [
    "plt.plot(precision)"
   ]
  },
  {
   "cell_type": "code",
   "execution_count": null,
   "metadata": {},
   "outputs": [],
   "source": []
  },
  {
   "cell_type": "markdown",
   "metadata": {},
   "source": [
    "# Trueskill"
   ]
  },
  {
   "cell_type": "code",
   "execution_count": null,
   "metadata": {
    "ExecuteTime": {
     "end_time": "2020-05-31T18:28:39.383683Z",
     "start_time": "2020-05-31T18:28:39.367231Z"
    }
   },
   "outputs": [],
   "source": [
    "import trueskill"
   ]
  },
  {
   "cell_type": "code",
   "execution_count": null,
   "metadata": {
    "ExecuteTime": {
     "end_time": "2020-05-31T18:28:39.401054Z",
     "start_time": "2020-05-31T18:28:39.385772Z"
    }
   },
   "outputs": [],
   "source": [
    "eu_teams = list(eu['team_1'].unique())"
   ]
  },
  {
   "cell_type": "code",
   "execution_count": null,
   "metadata": {
    "ExecuteTime": {
     "end_time": "2020-05-31T18:28:39.413626Z",
     "start_time": "2020-05-31T18:28:39.406426Z"
    }
   },
   "outputs": [],
   "source": [
    "env = trueskill.TrueSkill(draw_probability=0)"
   ]
  },
  {
   "cell_type": "code",
   "execution_count": null,
   "metadata": {
    "ExecuteTime": {
     "end_time": "2020-05-31T18:28:39.434376Z",
     "start_time": "2020-05-31T18:28:39.417265Z"
    }
   },
   "outputs": [],
   "source": [
    "init_skills = [trueskill.Rating() for team in eu_teams]"
   ]
  },
  {
   "cell_type": "code",
   "execution_count": null,
   "metadata": {
    "ExecuteTime": {
     "end_time": "2020-05-31T18:28:39.445372Z",
     "start_time": "2020-05-31T18:28:39.438749Z"
    }
   },
   "outputs": [],
   "source": [
    "eu_teams_skills = dict(zip(eu_teams,init_skills))"
   ]
  },
  {
   "cell_type": "code",
   "execution_count": null,
   "metadata": {
    "ExecuteTime": {
     "end_time": "2020-05-31T18:28:39.463779Z",
     "start_time": "2020-05-31T18:28:39.449001Z"
    }
   },
   "outputs": [],
   "source": [
    "import itertools\n",
    "import math\n",
    "def win_probability(team1, team2):\n",
    "    delta_mu = sum(r.mu for r in team1) - sum(r.mu for r in team2)\n",
    "    sum_sigma = sum(r.sigma ** 2 for r in itertools.chain(team1, team2))\n",
    "    size = len(team1) + len(team2)\n",
    "    denom = math.sqrt(size * (trueskill.BETA * trueskill.BETA) + sum_sigma)\n",
    "    ts = trueskill.global_env()\n",
    "    return ts.cdf(delta_mu / denom)"
   ]
  },
  {
   "cell_type": "code",
   "execution_count": null,
   "metadata": {},
   "outputs": [],
   "source": []
  },
  {
   "cell_type": "code",
   "execution_count": null,
   "metadata": {
    "ExecuteTime": {
     "end_time": "2020-05-31T21:04:22.944419Z",
     "start_time": "2020-05-31T21:04:22.916062Z"
    }
   },
   "outputs": [],
   "source": [
    "def train_trueskill(teams, num_games, data):\n",
    "    env = trueskill.TrueSkill(draw_probability=0)\n",
    "    init_skills = [trueskill.Rating() for team in eu_teams]\n",
    "    eu_teams_skills = dict(zip(eu_teams,init_skills))\n",
    "    \n",
    "    train = data[data['week_1'].isin(np.arange(1,num_games+1))]\n",
    "    print(len(train))\n",
    "\n",
    "    for i, row in eu_to_fit.iterrows():\n",
    "        team1, team2 = row['team_1'],row['team_2']\n",
    "        avg_mean = np.mean([val.mu for val in list(eu_teams_skills.values())])\n",
    "        avg_sigma = np.mean([val.sigma for val in list(eu_teams_skills.values())])\n",
    "\n",
    "        if team1 not in eu_teams_skills.keys():\n",
    "            eu_teams_skills[team1] = trueskill.Rating()\n",
    "            eu_teams_skills[team1].mu = avg_mean\n",
    "            eu_teams_skills[team1].sigma = avg_sigma\n",
    "\n",
    "        if team2 not in eu_teams_skills.keys():\n",
    "            eu_teams_skills[team1] = trueskill.Rating()\n",
    "            eu_teams_skills[team2].mu = avg_mean\n",
    "            eu_teams_skills[team2].sigma = avg_sigma\n",
    "\n",
    "        eu_teams_skills[team1],eu_teams_skills[team2] = trueskill.rate_1vs1(eu_teams_skills[team1],eu_teams_skills[team2], env = env)\n",
    "    return eu_teams_skills\n"
   ]
  },
  {
   "cell_type": "code",
   "execution_count": null,
   "metadata": {
    "ExecuteTime": {
     "end_time": "2020-05-31T21:04:24.687809Z",
     "start_time": "2020-05-31T21:04:24.675122Z"
    }
   },
   "outputs": [],
   "source": [
    "def trueskill_betting(eu_teams_skills, num_games ,data):\n",
    "    dollars = 100\n",
    "    wins = 0\n",
    "    losses = 0\n",
    "    test = data[~data['week_1'].isin(np.arange(1,num_games+1))]\n",
    "    for i, row in eu_to_test.iterrows():\n",
    "        team1 = row['team_1']\n",
    "        team2 = row['team_2']\n",
    "\n",
    "        if win_probability([eu_teams_skills[team1]],[eu_teams_skills[team2]]) > 0.5:\n",
    "            winner = team1\n",
    "        else:\n",
    "            winner = team2\n",
    "        if winner == team1:\n",
    "            dollars += 5*1.05\n",
    "            wins +=1\n",
    "        else:\n",
    "            dollars -= 5\n",
    "            losses +=1\n",
    "\n",
    "        eu_teams_skills[team1],eu_teams_skills[team2] = trueskill.rate_1vs1(eu_teams_skills[team1],eu_teams_skills[team2], env = env)\n",
    "\n",
    "    return dollars,wins,losses"
   ]
  },
  {
   "cell_type": "code",
   "execution_count": null,
   "metadata": {
    "ExecuteTime": {
     "end_time": "2020-05-31T21:03:15.557888Z",
     "start_time": "2020-05-31T21:03:15.503470Z"
    }
   },
   "outputs": [],
   "source": [
    "eu_teams_skills = train_trueskill(eu_teams, 3, eu)"
   ]
  },
  {
   "cell_type": "code",
   "execution_count": null,
   "metadata": {
    "ExecuteTime": {
     "end_time": "2020-05-31T21:03:16.147021Z",
     "start_time": "2020-05-31T21:03:15.800060Z"
    }
   },
   "outputs": [],
   "source": [
    "trueskill_betting(eu_teams_skills,3, eu)"
   ]
  },
  {
   "cell_type": "code",
   "execution_count": null,
   "metadata": {
    "ExecuteTime": {
     "end_time": "2020-05-31T21:04:43.596856Z",
     "start_time": "2020-05-31T21:04:39.152402Z"
    },
    "scrolled": true
   },
   "outputs": [],
   "source": [
    "dollars_trueskill = []\n",
    "wins_trueskill = []\n",
    "losses_trueskill = []\n",
    "precision_trueskill = []\n",
    "for games in np.arange(1,20):\n",
    "    eu_teams_skills = train_trueskill(eu_teams, games, eu)\n",
    "    dollars, wins, losses = trueskill_betting(eloLeague, games, eu)\n",
    "    dollars_trueskill.append(dollars)\n",
    "    wins_trueskill.append(wins)\n",
    "    losses_trueskill.append(losses)\n",
    "    precision_trueskill.append(wins/(losses + wins))"
   ]
  },
  {
   "cell_type": "code",
   "execution_count": null,
   "metadata": {
    "ExecuteTime": {
     "end_time": "2020-05-31T21:10:24.141970Z",
     "start_time": "2020-05-31T21:10:23.845359Z"
    }
   },
   "outputs": [],
   "source": [
    "plt.plot(precision_trueskill)"
   ]
  },
  {
   "cell_type": "code",
   "execution_count": null,
   "metadata": {},
   "outputs": [],
   "source": []
  },
  {
   "cell_type": "code",
   "execution_count": null,
   "metadata": {
    "ExecuteTime": {
     "end_time": "2020-05-31T18:28:39.500438Z",
     "start_time": "2020-05-31T18:28:39.469189Z"
    }
   },
   "outputs": [],
   "source": [
    "for i, row in eu_to_fit.iterrows():\n",
    "    team_1, team_2 = row['team_1'],row['team_2']\n",
    "    avg_mean = np.mean([val.mu for val in list(eu_teams_skills.values())])\n",
    "    avg_sigma = np.mean([val.sigma for val in list(eu_teams_skills.values())])\n",
    "    \n",
    "    if team1 not in eu_teams_skills.keys():\n",
    "        eu_teams_skills[team1] = trueskill.Rating()\n",
    "        eu_teams_skills[team1].mu = avg_mean\n",
    "        eu_teams_skills[team1].sigma = avg_sigma\n",
    "        \n",
    "    if team2 not in eu_teams_skills.keys():\n",
    "        eu_teams_skills[team1] = trueskill.Rating()\n",
    "        eu_teams_skills[team2].mu = avg_mean\n",
    "        eu_teams_skills[team2].sigma = avg_sigma\n",
    "    \n",
    "    eu_teams_skills[team_1],eu_teams_skills[team_2] = trueskill.rate_1vs1(eu_teams_skills[team_1],eu_teams_skills[team_2], env = env)"
   ]
  },
  {
   "cell_type": "code",
   "execution_count": null,
   "metadata": {
    "ExecuteTime": {
     "end_time": "2020-05-31T18:28:39.513330Z",
     "start_time": "2020-05-31T18:28:39.503236Z"
    }
   },
   "outputs": [],
   "source": [
    "avg_sigma"
   ]
  },
  {
   "cell_type": "code",
   "execution_count": null,
   "metadata": {
    "ExecuteTime": {
     "end_time": "2020-05-31T18:28:39.552062Z",
     "start_time": "2020-05-31T18:28:39.534364Z"
    }
   },
   "outputs": [],
   "source": [
    "eu_teams_skills"
   ]
  },
  {
   "cell_type": "code",
   "execution_count": null,
   "metadata": {
    "ExecuteTime": {
     "end_time": "2020-05-31T18:28:39.606358Z",
     "start_time": "2020-05-31T18:28:39.568445Z"
    }
   },
   "outputs": [],
   "source": [
    "eu_to_test"
   ]
  },
  {
   "cell_type": "code",
   "execution_count": null,
   "metadata": {
    "ExecuteTime": {
     "end_time": "2020-05-31T18:28:39.634653Z",
     "start_time": "2020-05-31T18:28:39.609004Z"
    }
   },
   "outputs": [],
   "source": [
    "win_probability([eu_teams_skills['Vitality']],[eu_teams_skills['Schalke 04']])"
   ]
  },
  {
   "cell_type": "code",
   "execution_count": null,
   "metadata": {
    "ExecuteTime": {
     "end_time": "2020-05-31T18:28:39.667152Z",
     "start_time": "2020-05-31T18:28:39.650602Z"
    }
   },
   "outputs": [],
   "source": [
    "team_2"
   ]
  },
  {
   "cell_type": "code",
   "execution_count": null,
   "metadata": {
    "ExecuteTime": {
     "end_time": "2020-05-31T18:28:39.873518Z",
     "start_time": "2020-05-31T18:28:39.674324Z"
    }
   },
   "outputs": [],
   "source": [
    "dollars = 100\n",
    "wins = 0\n",
    "losses = 0\n",
    "for i, row in eu_to_test.iterrows():\n",
    "    team1 = row['team_1']\n",
    "    team2 = row['team_2']\n",
    "    \n",
    "    if win_probability([eu_teams_skills[team1]],[eu_teams_skills[team2]]) > 0.5:\n",
    "        winner = team1\n",
    "    else:\n",
    "        winner = team2\n",
    "    if winner == team1:\n",
    "        dollars += 5*1.05\n",
    "        wins +=1\n",
    "    else:\n",
    "        dollars -= 5\n",
    "        losses +=1\n",
    "    \n",
    "    eu_teams_skills[team1],eu_teams_skills[team2] = trueskill.rate_1vs1(eu_teams_skills[team1],eu_teams_skills[team2], env = env)\n",
    "    "
   ]
  },
  {
   "cell_type": "code",
   "execution_count": null,
   "metadata": {
    "ExecuteTime": {
     "end_time": "2020-05-31T18:28:39.890003Z",
     "start_time": "2020-05-31T18:28:39.876343Z"
    }
   },
   "outputs": [],
   "source": [
    "dollars"
   ]
  },
  {
   "cell_type": "code",
   "execution_count": null,
   "metadata": {
    "ExecuteTime": {
     "end_time": "2020-05-31T18:28:39.909566Z",
     "start_time": "2020-05-31T18:28:39.898634Z"
    }
   },
   "outputs": [],
   "source": [
    "avg_sigma"
   ]
  },
  {
   "cell_type": "code",
   "execution_count": null,
   "metadata": {
    "ExecuteTime": {
     "end_time": "2020-05-31T18:28:39.931294Z",
     "start_time": "2020-05-31T18:28:39.918560Z"
    }
   },
   "outputs": [],
   "source": [
    "eu_teams_skills"
   ]
  },
  {
   "cell_type": "code",
   "execution_count": null,
   "metadata": {
    "ExecuteTime": {
     "end_time": "2020-05-31T18:28:39.943477Z",
     "start_time": "2020-05-31T18:28:39.937272Z"
    }
   },
   "outputs": [],
   "source": [
    "eu_teams_skills_mean = {k: v.mu for k, v in sorted(eu_teams_skills.items(), key=lambda item: item[1])}\n"
   ]
  },
  {
   "cell_type": "code",
   "execution_count": null,
   "metadata": {
    "ExecuteTime": {
     "end_time": "2020-05-31T18:28:39.963302Z",
     "start_time": "2020-05-31T18:28:39.948565Z"
    }
   },
   "outputs": [],
   "source": [
    "eu_teams_skills_mean"
   ]
  },
  {
   "cell_type": "code",
   "execution_count": null,
   "metadata": {
    "ExecuteTime": {
     "end_time": "2020-05-31T18:28:39.989582Z",
     "start_time": "2020-05-31T18:28:39.977988Z"
    }
   },
   "outputs": [],
   "source": [
    "{k: v for k, v in sorted(eloLeague.ratingDict.items(), key=lambda item: item[1])}\n"
   ]
  },
  {
   "cell_type": "code",
   "execution_count": null,
   "metadata": {},
   "outputs": [],
   "source": []
  },
  {
   "cell_type": "markdown",
   "metadata": {},
   "source": [
    "# Glicko2"
   ]
  },
  {
   "cell_type": "code",
   "execution_count": null,
   "metadata": {
    "ExecuteTime": {
     "end_time": "2020-06-02T21:56:30.671318Z",
     "start_time": "2020-06-02T21:56:30.651947Z"
    }
   },
   "outputs": [],
   "source": [
    "from glicko2 import glicko2"
   ]
  },
  {
   "cell_type": "code",
   "execution_count": null,
   "metadata": {
    "ExecuteTime": {
     "end_time": "2020-05-31T18:28:40.018937Z",
     "start_time": "2020-05-31T18:28:40.011116Z"
    }
   },
   "outputs": [],
   "source": [
    "init_skills_glicko = [glicko2.Glicko2().create_rating() for team in eu_teams]"
   ]
  },
  {
   "cell_type": "code",
   "execution_count": null,
   "metadata": {
    "ExecuteTime": {
     "end_time": "2020-05-31T18:28:40.043069Z",
     "start_time": "2020-05-31T18:28:40.030053Z"
    }
   },
   "outputs": [],
   "source": [
    "eu_teams_glicko = dict(zip(eu_teams,init_skills_glicko))"
   ]
  },
  {
   "cell_type": "code",
   "execution_count": null,
   "metadata": {
    "ExecuteTime": {
     "end_time": "2020-05-31T18:28:40.062985Z",
     "start_time": "2020-05-31T18:28:40.045965Z"
    }
   },
   "outputs": [],
   "source": [
    "glicko2.Glicko2().rate_1vs1(eu_teams_glicko['Fnatic'],eu_teams_glicko['Vitality'])"
   ]
  },
  {
   "cell_type": "code",
   "execution_count": null,
   "metadata": {
    "ExecuteTime": {
     "end_time": "2020-05-31T18:28:40.081571Z",
     "start_time": "2020-05-31T18:28:40.069205Z"
    }
   },
   "outputs": [],
   "source": [
    "glicko2.Glicko2().expect_score(eu_teams_glicko['Fnatic'],eu_teams_glicko['Fnatic'],glicko2.Glicko2().reduce_impact(eu_teams_glicko['Fnatic'])) \n",
    "\n"
   ]
  },
  {
   "cell_type": "code",
   "execution_count": null,
   "metadata": {
    "ExecuteTime": {
     "end_time": "2020-05-31T18:28:40.116825Z",
     "start_time": "2020-05-31T18:28:40.085242Z"
    }
   },
   "outputs": [],
   "source": [
    "for i, row in eu_to_fit.iterrows():\n",
    "    team_1, team_2 = row['team_1'],row['team_2']\n",
    "#     avg_mean = np.mean([val.mu for val in list(eu_teams_skills.values())])\n",
    "#     avg_sigma = np.mean([val.sigma for val in list(eu_teams_skills.values())])\n",
    "    \n",
    "#     if team1 not in eu_teams_skills.keys():\n",
    "#         eu_teams_skills[team1] = trueskill.Rating()\n",
    "#         eu_teams_skills[team1].mu = avg_mean\n",
    "#         eu_teams_skills[team1].sigma = avg_sigma\n",
    "        \n",
    "#     if team2 not in eu_teams_skills.keys():\n",
    "#         eu_teams_skills[team1] = trueskill.Rating()\n",
    "#         eu_teams_skills[team2].mu = avg_mean\n",
    "#         eu_teams_skills[team2].sigma = avg_sigma\n",
    "    eu_teams_glicko[team_1],eu_teams_glicko[team_2] = glicko2.Glicko2().rate_1vs1(eu_teams_glicko[team_1],eu_teams_glicko[team_2])\n",
    "    "
   ]
  },
  {
   "cell_type": "code",
   "execution_count": null,
   "metadata": {
    "ExecuteTime": {
     "end_time": "2020-05-31T18:28:40.203855Z",
     "start_time": "2020-05-31T18:28:40.119752Z"
    }
   },
   "outputs": [],
   "source": [
    "dollars = 100\n",
    "wins = 0\n",
    "losses = 0\n",
    "for i, row in eu_to_test.iterrows():\n",
    "    team1 = row['team_1']\n",
    "    team2 = row['team_2']\n",
    "    \n",
    "\n",
    "    if glicko2.Glicko2().expect_score(eu_teams_glicko[team1],eu_teams_glicko[team2],glicko2.Glicko2().reduce_impact(eu_teams_glicko[team1]))  > 0.5:\n",
    "        winner = team1\n",
    "    else:\n",
    "        winner = team2\n",
    "    if winner == team1:\n",
    "        dollars += 5*1.05\n",
    "        wins +=1\n",
    "    else:\n",
    "        dollars -= 5\n",
    "        losses +=1\n",
    "    \n",
    "    eu_teams_glicko[team_1],eu_teams_glicko[team_2] = glicko2.Glicko2().rate_1vs1(eu_teams_glicko[team_1],eu_teams_glicko[team_2])\n",
    "    "
   ]
  },
  {
   "cell_type": "code",
   "execution_count": null,
   "metadata": {
    "ExecuteTime": {
     "end_time": "2020-05-31T18:28:40.216197Z",
     "start_time": "2020-05-31T18:28:40.207094Z"
    }
   },
   "outputs": [],
   "source": [
    "dollars"
   ]
  },
  {
   "cell_type": "code",
   "execution_count": null,
   "metadata": {},
   "outputs": [],
   "source": []
  },
  {
   "cell_type": "code",
   "execution_count": null,
   "metadata": {},
   "outputs": [],
   "source": []
  }
 ],
 "metadata": {
  "kernelspec": {
   "display_name": "Python 3",
   "language": "python",
   "name": "python3"
  },
  "language_info": {
   "codemirror_mode": {
    "name": "ipython",
    "version": 3
   },
   "file_extension": ".py",
   "mimetype": "text/x-python",
   "name": "python",
   "nbconvert_exporter": "python",
   "pygments_lexer": "ipython3",
   "version": "3.7.4"
  },
  "toc": {
   "base_numbering": 1,
   "nav_menu": {},
   "number_sections": true,
   "sideBar": true,
   "skip_h1_title": false,
   "title_cell": "Table of Contents",
   "title_sidebar": "Contents",
   "toc_cell": false,
   "toc_position": {},
   "toc_section_display": true,
   "toc_window_display": false
  }
 },
 "nbformat": 4,
 "nbformat_minor": 2
}
